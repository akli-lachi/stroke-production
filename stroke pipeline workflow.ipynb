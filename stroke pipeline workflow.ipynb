{
 "cells": [
  {
   "cell_type": "markdown",
   "id": "5fc14809",
   "metadata": {},
   "source": [
    "                     ****projet Stroke****"
   ]
  },
  {
   "cell_type": "markdown",
   "id": "a62dac56",
   "metadata": {},
   "source": [
    "\n",
    "1. Exploratory Data Analysis and vizalisation\n",
    "1.1 But\n",
    "1.2 Recuperer les données\n",
    "1.3 Visualisation\n",
    "1.4 Commentaire\n",
    "\n",
    "2. Data Cleaning\n",
    "2.1 Les nan\n",
    "2.2 les duplicatats\n",
    "2.3 Converting Categorical Features\n",
    "\n",
    "3.  Modeling and evaualtion\n",
    "3.1 separation du dataframe en features(X) et target (y\n",
    "3.1 Train Test Split\n",
    "3.2 Training and Predicting\n",
    "3.2.1 DecisionTreeClassifier\n",
    "3.2.2 XGBClassifier                                                      \n",
    "6.3 Evaluation\n",
    "6.4 interprétation des résultats\n",
    "\n",
    "4. Oversampling 1\n",
    "4.1 Oversampling data_train \n",
    "4.2 Training and Predicting\n",
    "4.2.1 DecisionTreeClassifier\n",
    "4.2.2 XGBClassifier                                                      \n",
    "4.3 Evaluation\n",
    "4.4 interprétation des résultats\n",
    "\n",
    "5. Oversampling2\n",
    "5.1 Oversampling data_train & data_test \n",
    "5.2 Training and Predicting\n",
    "5.2.1 DecisionTreeClassifier\n",
    "5.2.2 XGBClassifier\n",
    "5.3 Evaluation\n",
    "5.4 interprétation des résultats\n",
    "\n",
    "6.  Rééquilibrage des classes avec smote\n",
    "6.1 Oversampling data_train & data_test \n",
    "6.2 Training and Predicting\n",
    "6.2.1 DecisionTreeClassifier\n",
    "6.3 Evaluation\n",
    "6.4 interprétation des résultats  \n",
    "\n",
    "7. Mise en eprodyction & exporter le model "
   ]
  },
  {
   "cell_type": "markdown",
   "id": "30a13362",
   "metadata": {},
   "source": [
    "**1.Analyse exploratrice des données** "
   ]
  },
  {
   "cell_type": "markdown",
   "id": "b63db0fa",
   "metadata": {},
   "source": [
    "*1.1BUT*"
   ]
  },
  {
   "cell_type": "markdown",
   "id": "47385902",
   "metadata": {},
   "source": [
    "Le travail consiste à prédire si une personne va subir un AVC\n",
    "Nous allons essayer de prédire une classification ,la variable target est \"stoke\".\n",
    ">stroke=0 : pas d'ataque cardiaque \n",
    "\n",
    ">stroke=1 : avc "
   ]
  },
  {
   "cell_type": "markdown",
   "id": "3b4c0084",
   "metadata": {},
   "source": [
    "*1.2 Recuperer les données*"
   ]
  },
  {
   "cell_type": "code",
   "execution_count": 1,
   "id": "d6a7ca14",
   "metadata": {},
   "outputs": [],
   "source": [
    "#importation des librariries\n",
    "%matplotlib inline\n",
    "import pandas as pd\n",
    "import numpy as np\n",
    "import matplotlib.pyplot as plt;\n",
    "import seaborn as sns"
   ]
  },
  {
   "cell_type": "code",
   "execution_count": 2,
   "id": "2efabbcd",
   "metadata": {},
   "outputs": [
    {
     "name": "stderr",
     "output_type": "stream",
     "text": [
      "C:\\Users\\akli_\\anaconda3\\lib\\site-packages\\xgboost\\compat.py:36: FutureWarning: pandas.Int64Index is deprecated and will be removed from pandas in a future version. Use pandas.Index with the appropriate dtype instead.\n",
      "  from pandas import MultiIndex, Int64Index\n"
     ]
    }
   ],
   "source": [
    "# package  machine learning \n",
    "#normalisation \n",
    "from sklearn.preprocessing import RobustScaler \n",
    "\n",
    "#separation du dataset \n",
    "from sklearn.model_selection import train_test_split, cross_val_score \n",
    "\n",
    "#model \n",
    "from sklearn.linear_model import LinearRegression ,LogisticRegression\n",
    "from sklearn.neighbors import KNeighborsClassifier\n",
    "from sklearn.tree import DecisionTreeClassifier\n",
    "from sklearn.ensemble import RandomForestClassifier\n",
    "from xgboost import XGBClassifier\n",
    "from sklearn.ensemble import GradientBoostingClassifier\n",
    "\n",
    "\n",
    "#metriques \n",
    "from sklearn.metrics import confusion_matrix,accuracy_score,classification_report \n",
    "\n",
    "#pipeline \n",
    "from sklearn.pipeline import make_pipeline\n",
    "from sklearn.model_selection import GridSearchCV"
   ]
  },
  {
   "cell_type": "code",
   "execution_count": 3,
   "id": "9eb13c53",
   "metadata": {},
   "outputs": [],
   "source": [
    "#package special :\n",
    "# Sur-échantillonnage ou oversampling\n",
    "from imblearn.over_sampling  import RandomOverSampler\n",
    "from imblearn.under_sampling import RandomUnderSampler\n",
    "#smote \n",
    "from collections import Counter\n",
    "from sklearn.datasets import make_classification\n",
    "from imblearn.over_sampling import SMOTE\n",
    "\n",
    "#exporter les model \n",
    "import joblib"
   ]
  },
  {
   "cell_type": "code",
   "execution_count": 4,
   "id": "4836f743",
   "metadata": {},
   "outputs": [],
   "source": [
    "# importation du daset\n",
    "df = pd.read_csv('https://assets-datascientest.s3-eu-west-1.amazonaws.com/de/total/strokes.csv', index_col = 0)"
   ]
  },
  {
   "cell_type": "code",
   "execution_count": 5,
   "id": "c28bffaf",
   "metadata": {},
   "outputs": [
    {
     "data": {
      "text/html": [
       "<div>\n",
       "<style scoped>\n",
       "    .dataframe tbody tr th:only-of-type {\n",
       "        vertical-align: middle;\n",
       "    }\n",
       "\n",
       "    .dataframe tbody tr th {\n",
       "        vertical-align: top;\n",
       "    }\n",
       "\n",
       "    .dataframe thead th {\n",
       "        text-align: right;\n",
       "    }\n",
       "</style>\n",
       "<table border=\"1\" class=\"dataframe\">\n",
       "  <thead>\n",
       "    <tr style=\"text-align: right;\">\n",
       "      <th></th>\n",
       "      <th>gender</th>\n",
       "      <th>age</th>\n",
       "      <th>hypertension</th>\n",
       "      <th>heart_disease</th>\n",
       "      <th>ever_married</th>\n",
       "      <th>work_type</th>\n",
       "      <th>Residence_type</th>\n",
       "      <th>avg_glucose_level</th>\n",
       "      <th>bmi</th>\n",
       "      <th>smoking_status</th>\n",
       "      <th>stroke</th>\n",
       "    </tr>\n",
       "    <tr>\n",
       "      <th>id</th>\n",
       "      <th></th>\n",
       "      <th></th>\n",
       "      <th></th>\n",
       "      <th></th>\n",
       "      <th></th>\n",
       "      <th></th>\n",
       "      <th></th>\n",
       "      <th></th>\n",
       "      <th></th>\n",
       "      <th></th>\n",
       "      <th></th>\n",
       "    </tr>\n",
       "  </thead>\n",
       "  <tbody>\n",
       "    <tr>\n",
       "      <th>9046</th>\n",
       "      <td>Male</td>\n",
       "      <td>67.0</td>\n",
       "      <td>0</td>\n",
       "      <td>1</td>\n",
       "      <td>Yes</td>\n",
       "      <td>Private</td>\n",
       "      <td>Urban</td>\n",
       "      <td>228.69</td>\n",
       "      <td>36.6</td>\n",
       "      <td>formerly smoked</td>\n",
       "      <td>1</td>\n",
       "    </tr>\n",
       "    <tr>\n",
       "      <th>51676</th>\n",
       "      <td>Female</td>\n",
       "      <td>61.0</td>\n",
       "      <td>0</td>\n",
       "      <td>0</td>\n",
       "      <td>Yes</td>\n",
       "      <td>Self-employed</td>\n",
       "      <td>Rural</td>\n",
       "      <td>202.21</td>\n",
       "      <td>NaN</td>\n",
       "      <td>never smoked</td>\n",
       "      <td>1</td>\n",
       "    </tr>\n",
       "    <tr>\n",
       "      <th>31112</th>\n",
       "      <td>Male</td>\n",
       "      <td>80.0</td>\n",
       "      <td>0</td>\n",
       "      <td>1</td>\n",
       "      <td>Yes</td>\n",
       "      <td>Private</td>\n",
       "      <td>Rural</td>\n",
       "      <td>105.92</td>\n",
       "      <td>32.5</td>\n",
       "      <td>never smoked</td>\n",
       "      <td>1</td>\n",
       "    </tr>\n",
       "  </tbody>\n",
       "</table>\n",
       "</div>"
      ],
      "text/plain": [
       "       gender   age  hypertension  heart_disease ever_married      work_type  \\\n",
       "id                                                                             \n",
       "9046     Male  67.0             0              1          Yes        Private   \n",
       "51676  Female  61.0             0              0          Yes  Self-employed   \n",
       "31112    Male  80.0             0              1          Yes        Private   \n",
       "\n",
       "      Residence_type  avg_glucose_level   bmi   smoking_status  stroke  \n",
       "id                                                                      \n",
       "9046           Urban             228.69  36.6  formerly smoked       1  \n",
       "51676          Rural             202.21   NaN     never smoked       1  \n",
       "31112          Rural             105.92  32.5     never smoked       1  "
      ]
     },
     "execution_count": 5,
     "metadata": {},
     "output_type": "execute_result"
    }
   ],
   "source": [
    "#aperçu du dataset \n",
    "df.head(3)"
   ]
  },
  {
   "cell_type": "code",
   "execution_count": 6,
   "id": "65eacb17",
   "metadata": {},
   "outputs": [
    {
     "data": {
      "text/html": [
       "<div>\n",
       "<style scoped>\n",
       "    .dataframe tbody tr th:only-of-type {\n",
       "        vertical-align: middle;\n",
       "    }\n",
       "\n",
       "    .dataframe tbody tr th {\n",
       "        vertical-align: top;\n",
       "    }\n",
       "\n",
       "    .dataframe thead th {\n",
       "        text-align: right;\n",
       "    }\n",
       "</style>\n",
       "<table border=\"1\" class=\"dataframe\">\n",
       "  <thead>\n",
       "    <tr style=\"text-align: right;\">\n",
       "      <th></th>\n",
       "      <th>gender</th>\n",
       "      <th>age</th>\n",
       "      <th>hypertension</th>\n",
       "      <th>heart_disease</th>\n",
       "      <th>ever_married</th>\n",
       "      <th>work_type</th>\n",
       "      <th>Residence_type</th>\n",
       "      <th>avg_glucose_level</th>\n",
       "      <th>bmi</th>\n",
       "      <th>smoking_status</th>\n",
       "      <th>stroke</th>\n",
       "    </tr>\n",
       "    <tr>\n",
       "      <th>id</th>\n",
       "      <th></th>\n",
       "      <th></th>\n",
       "      <th></th>\n",
       "      <th></th>\n",
       "      <th></th>\n",
       "      <th></th>\n",
       "      <th></th>\n",
       "      <th></th>\n",
       "      <th></th>\n",
       "      <th></th>\n",
       "      <th></th>\n",
       "    </tr>\n",
       "  </thead>\n",
       "  <tbody>\n",
       "    <tr>\n",
       "      <th>19723</th>\n",
       "      <td>Female</td>\n",
       "      <td>35.0</td>\n",
       "      <td>0</td>\n",
       "      <td>0</td>\n",
       "      <td>Yes</td>\n",
       "      <td>Self-employed</td>\n",
       "      <td>Rural</td>\n",
       "      <td>82.99</td>\n",
       "      <td>30.6</td>\n",
       "      <td>never smoked</td>\n",
       "      <td>0</td>\n",
       "    </tr>\n",
       "    <tr>\n",
       "      <th>37544</th>\n",
       "      <td>Male</td>\n",
       "      <td>51.0</td>\n",
       "      <td>0</td>\n",
       "      <td>0</td>\n",
       "      <td>Yes</td>\n",
       "      <td>Private</td>\n",
       "      <td>Rural</td>\n",
       "      <td>166.29</td>\n",
       "      <td>25.6</td>\n",
       "      <td>formerly smoked</td>\n",
       "      <td>0</td>\n",
       "    </tr>\n",
       "    <tr>\n",
       "      <th>44679</th>\n",
       "      <td>Female</td>\n",
       "      <td>44.0</td>\n",
       "      <td>0</td>\n",
       "      <td>0</td>\n",
       "      <td>Yes</td>\n",
       "      <td>Govt_job</td>\n",
       "      <td>Urban</td>\n",
       "      <td>85.28</td>\n",
       "      <td>26.2</td>\n",
       "      <td>Unknown</td>\n",
       "      <td>0</td>\n",
       "    </tr>\n",
       "  </tbody>\n",
       "</table>\n",
       "</div>"
      ],
      "text/plain": [
       "       gender   age  hypertension  heart_disease ever_married      work_type  \\\n",
       "id                                                                             \n",
       "19723  Female  35.0             0              0          Yes  Self-employed   \n",
       "37544    Male  51.0             0              0          Yes        Private   \n",
       "44679  Female  44.0             0              0          Yes       Govt_job   \n",
       "\n",
       "      Residence_type  avg_glucose_level   bmi   smoking_status  stroke  \n",
       "id                                                                      \n",
       "19723          Rural              82.99  30.6     never smoked       0  \n",
       "37544          Rural             166.29  25.6  formerly smoked       0  \n",
       "44679          Urban              85.28  26.2          Unknown       0  "
      ]
     },
     "execution_count": 6,
     "metadata": {},
     "output_type": "execute_result"
    }
   ],
   "source": [
    "df.tail(3)"
   ]
  },
  {
   "cell_type": "code",
   "execution_count": 7,
   "id": "d3e8ddda",
   "metadata": {},
   "outputs": [
    {
     "data": {
      "text/plain": [
       "(5110, 11)"
      ]
     },
     "execution_count": 7,
     "metadata": {},
     "output_type": "execute_result"
    }
   ],
   "source": [
    "#dimesnion\n",
    "df.shape"
   ]
  },
  {
   "cell_type": "code",
   "execution_count": 8,
   "id": "06e7e020",
   "metadata": {},
   "outputs": [
    {
     "data": {
      "text/plain": [
       "gender                object\n",
       "age                  float64\n",
       "hypertension           int64\n",
       "heart_disease          int64\n",
       "ever_married          object\n",
       "work_type             object\n",
       "Residence_type        object\n",
       "avg_glucose_level    float64\n",
       "bmi                  float64\n",
       "smoking_status        object\n",
       "stroke                 int64\n",
       "dtype: object"
      ]
     },
     "execution_count": 8,
     "metadata": {},
     "output_type": "execute_result"
    }
   ],
   "source": [
    "#le type de colonnes \n",
    "df.dtypes"
   ]
  },
  {
   "cell_type": "markdown",
   "id": "8700216d",
   "metadata": {},
   "source": [
    "*1.3 Visualisation*"
   ]
  },
  {
   "cell_type": "code",
   "execution_count": 9,
   "id": "c73990fa",
   "metadata": {},
   "outputs": [
    {
     "data": {
      "text/plain": [
       "<AxesSubplot:ylabel='id'>"
      ]
     },
     "execution_count": 9,
     "metadata": {},
     "output_type": "execute_result"
    },
    {
     "data": {
      "image/png": "[encoded data removed]",
      "text/plain": [
       "<Figure size 432x288 with 1 Axes>"
      ]
     },
     "metadata": {
      "needs_background": "light"
     },
     "output_type": "display_data"
    }
   ],
   "source": [
    "#visualisation des valeurs nulles\n",
    "sns.heatmap(df.isnull(),yticklabels=False,cbar=False,cmap='viridis')"
   ]
  },
  {
   "cell_type": "code",
   "execution_count": 10,
   "id": "2e62622c",
   "metadata": {},
   "outputs": [
    {
     "data": {
      "text/plain": [
       "<AxesSubplot:xlabel='stroke', ylabel='count'>"
      ]
     },
     "execution_count": 10,
     "metadata": {},
     "output_type": "execute_result"
    },
    {
     "data": {
      "image/png": "[encoded data removed]",
      "text/plain": [
       "<Figure size 432x288 with 1 Axes>"
      ]
     },
     "metadata": {},
     "output_type": "display_data"
    }
   ],
   "source": [
    "#repartition de la target \n",
    "sns.set_style('whitegrid')\n",
    "sns.countplot(x='stroke',data=df,palette='RdBu_r')"
   ]
  },
  {
   "cell_type": "code",
   "execution_count": 11,
   "id": "94e9a227",
   "metadata": {},
   "outputs": [
    {
     "data": {
      "text/plain": [
       "<AxesSubplot:xlabel='stroke', ylabel='count'>"
      ]
     },
     "execution_count": 11,
     "metadata": {},
     "output_type": "execute_result"
    },
    {
     "data": {
      "image/png": "[encoded data removed]",
      "text/plain": [
       "<Figure size 432x288 with 1 Axes>"
      ]
     },
     "metadata": {},
     "output_type": "display_data"
    }
   ],
   "source": [
    "#repartion du genre entre les deux classes \n",
    "sns.set_style('whitegrid')\n",
    "sns.countplot(x='stroke',hue='gender',data=df,palette='RdBu_r')"
   ]
  },
  {
   "cell_type": "code",
   "execution_count": 12,
   "id": "4dd9b064",
   "metadata": {},
   "outputs": [
    {
     "data": {
      "text/plain": [
       "<AxesSubplot:xlabel='stroke', ylabel='count'>"
      ]
     },
     "execution_count": 12,
     "metadata": {},
     "output_type": "execute_result"
    },
    {
     "data": {
      "image/png": "[encoded data removed]",
      "text/plain": [
       "<Figure size 432x288 with 1 Axes>"
      ]
     },
     "metadata": {},
     "output_type": "display_data"
    }
   ],
   "source": [
    "#repartion de la maladie cardiaque  entre les deux classes\n",
    "sns.set_style('whitegrid')\n",
    "sns.countplot(x='stroke',hue='heart_disease',data=df,palette='rainbow')"
   ]
  },
  {
   "cell_type": "code",
   "execution_count": 13,
   "id": "906d4106",
   "metadata": {},
   "outputs": [
    {
     "data": {
      "text/plain": [
       "<AxesSubplot:>"
      ]
     },
     "execution_count": 13,
     "metadata": {},
     "output_type": "execute_result"
    },
    {
     "data": {
      "image/png": "[encoded data removed]",
      "text/plain": [
       "<Figure size 432x288 with 1 Axes>"
      ]
     },
     "metadata": {},
     "output_type": "display_data"
    }
   ],
   "source": [
    "#visualisation de l'age \n",
    "df['age'].hist(bins=30,color='darkred',alpha=0.7)"
   ]
  },
  {
   "cell_type": "code",
   "execution_count": 14,
   "id": "2ce6b54b",
   "metadata": {},
   "outputs": [
    {
     "data": {
      "text/plain": [
       "<AxesSubplot:xlabel='hypertension', ylabel='count'>"
      ]
     },
     "execution_count": 14,
     "metadata": {},
     "output_type": "execute_result"
    },
    {
     "data": {
      "image/png": "[encoded data removed]",
      "text/plain": [
       "<Figure size 432x288 with 1 Axes>"
      ]
     },
     "metadata": {},
     "output_type": "display_data"
    }
   ],
   "source": [
    "# visualisation d’hypertension\n",
    "sns.countplot(x='hypertension',data=df)"
   ]
  },
  {
   "cell_type": "markdown",
   "id": "c6e1e60b",
   "metadata": {},
   "source": [
    "*1.4commentaire :*"
   ]
  },
  {
   "cell_type": "markdown",
   "id": "5f68dbbf",
   "metadata": {},
   "source": [
    "   \n",
    "-présence des nan dans les colonnes bmi.\n",
    "\n",
    "-dataset déséquilibré : Le nombre de cas positif (strokes=1) \n",
    "                       est trop faible dans le jeu de données.\n",
    "                       \n",
    "-la population testée est plutôt en très bonne santé, peu de gens atteint maladie  cardiaque ou soufrant d’hypertension, population jeune, autant de femme que d’homme).\n",
    "\n",
    ">>risque de surraaprentissage(oversapling)"
   ]
  },
  {
   "cell_type": "markdown",
   "id": "acad942a",
   "metadata": {},
   "source": [
    "**2.Data Cleaning**"
   ]
  },
  {
   "cell_type": "markdown",
   "id": "188f0f69",
   "metadata": {},
   "source": [
    "*2.1.les valeurs nulles nan*"
   ]
  },
  {
   "cell_type": "code",
   "execution_count": 15,
   "id": "5d7365db",
   "metadata": {},
   "outputs": [
    {
     "data": {
      "text/plain": [
       "bmi                  201\n",
       "gender                 0\n",
       "age                    0\n",
       "hypertension           0\n",
       "heart_disease          0\n",
       "ever_married           0\n",
       "work_type              0\n",
       "Residence_type         0\n",
       "avg_glucose_level      0\n",
       "smoking_status         0\n",
       "stroke                 0\n",
       "dtype: int64"
      ]
     },
     "execution_count": 15,
     "metadata": {},
     "output_type": "execute_result"
    }
   ],
   "source": [
    "#detection des Nan\n",
    "df.isna().sum().sort_values(ascending=False)"
   ]
  },
  {
   "cell_type": "code",
   "execution_count": 16,
   "id": "c8cc5a6d",
   "metadata": {},
   "outputs": [],
   "source": [
    "#on repmlace par la mooyenne \n",
    "moyenne=round(df['bmi'].mean(),2)"
   ]
  },
  {
   "cell_type": "code",
   "execution_count": 17,
   "id": "5743f0c6",
   "metadata": {},
   "outputs": [
    {
     "data": {
      "text/plain": [
       "28.89"
      ]
     },
     "execution_count": 17,
     "metadata": {},
     "output_type": "execute_result"
    }
   ],
   "source": [
    "moyenne"
   ]
  },
  {
   "cell_type": "code",
   "execution_count": 18,
   "id": "632c7dab",
   "metadata": {},
   "outputs": [],
   "source": [
    "df[\"bmi\"].fillna(moyenne,inplace=True)"
   ]
  },
  {
   "cell_type": "markdown",
   "id": "d751351e",
   "metadata": {},
   "source": [
    "*2.2.les duplicatats*"
   ]
  },
  {
   "cell_type": "code",
   "execution_count": 19,
   "id": "072457aa",
   "metadata": {},
   "outputs": [
    {
     "data": {
      "text/plain": [
       "0"
      ]
     },
     "execution_count": 19,
     "metadata": {},
     "output_type": "execute_result"
    }
   ],
   "source": [
    "#detection des doublons\n",
    "df.duplicated().sum()"
   ]
  },
  {
   "cell_type": "markdown",
   "id": "1cac05de",
   "metadata": {},
   "source": [
    "*2.3.Converting Categorical Features*"
   ]
  },
  {
   "cell_type": "code",
   "execution_count": 20,
   "id": "1f5d73fb",
   "metadata": {},
   "outputs": [
    {
     "data": {
      "text/plain": [
       "gender                object\n",
       "age                  float64\n",
       "hypertension           int64\n",
       "heart_disease          int64\n",
       "ever_married          object\n",
       "work_type             object\n",
       "Residence_type        object\n",
       "avg_glucose_level    float64\n",
       "bmi                  float64\n",
       "smoking_status        object\n",
       "stroke                 int64\n",
       "dtype: object"
      ]
     },
     "execution_count": 20,
     "metadata": {},
     "output_type": "execute_result"
    }
   ],
   "source": [
    "df.dtypes"
   ]
  },
  {
   "cell_type": "code",
   "execution_count": 21,
   "id": "eb5c0fb2",
   "metadata": {},
   "outputs": [],
   "source": [
    "#gender\n",
    "# On récupère l'index de la ligne gender=other\n",
    "indexOther = df[df['gender'] == 'Other'].index\n",
    "# On supprime la ligne du dataFrame\n",
    "df.drop(indexOther , inplace=True)\n",
    "\n",
    "# On remplace les modalités 'Male' et 'Female' de la variable 'gender' par 0, 1\n",
    "df.gender = df.gender.replace(['Male','Female'], [0,1])"
   ]
  },
  {
   "cell_type": "code",
   "execution_count": 22,
   "id": "a4069e51",
   "metadata": {},
   "outputs": [],
   "source": [
    "#ever_married\n",
    "#On remplace les modalités 'No' et 'Yes' de la variable 'ever_married' par 0 et 1\n",
    "df[\"ever_married\"]= df[\"ever_married\"].replace(['No','Yes'], [0,1])"
   ]
  },
  {
   "cell_type": "code",
   "execution_count": 23,
   "id": "b25a6950",
   "metadata": {},
   "outputs": [],
   "source": [
    "#Residence_type\n",
    "# On remplace les modalités 'Rural' et 'Urban' de la variable 'Residence_type' par 0 et 1\n",
    "df.Residence_type = df.Residence_type.replace(['Rural','Urban'], [0,1])"
   ]
  },
  {
   "cell_type": "code",
   "execution_count": 24,
   "id": "2614e786",
   "metadata": {},
   "outputs": [],
   "source": [
    "#work_type'\n",
    "#On supprime la colonne 'work_type'\n",
    "df = df.drop(['work_type'], axis = 1)"
   ]
  },
  {
   "cell_type": "code",
   "execution_count": 25,
   "id": "4c7aa67c",
   "metadata": {},
   "outputs": [],
   "source": [
    "#smoking_status\n",
    "# On sépare la colonne 'smoking_status' en plusieurs colonnes\n",
    "df = pd.get_dummies(df, columns=['smoking_status'])"
   ]
  },
  {
   "cell_type": "code",
   "execution_count": 26,
   "id": "1f6aae6a",
   "metadata": {},
   "outputs": [
    {
     "data": {
      "text/html": [
       "<div>\n",
       "<style scoped>\n",
       "    .dataframe tbody tr th:only-of-type {\n",
       "        vertical-align: middle;\n",
       "    }\n",
       "\n",
       "    .dataframe tbody tr th {\n",
       "        vertical-align: top;\n",
       "    }\n",
       "\n",
       "    .dataframe thead th {\n",
       "        text-align: right;\n",
       "    }\n",
       "</style>\n",
       "<table border=\"1\" class=\"dataframe\">\n",
       "  <thead>\n",
       "    <tr style=\"text-align: right;\">\n",
       "      <th></th>\n",
       "      <th>gender</th>\n",
       "      <th>age</th>\n",
       "      <th>hypertension</th>\n",
       "      <th>heart_disease</th>\n",
       "      <th>ever_married</th>\n",
       "      <th>Residence_type</th>\n",
       "      <th>avg_glucose_level</th>\n",
       "      <th>bmi</th>\n",
       "      <th>stroke</th>\n",
       "      <th>smoking_status_Unknown</th>\n",
       "      <th>smoking_status_formerly smoked</th>\n",
       "      <th>smoking_status_never smoked</th>\n",
       "      <th>smoking_status_smokes</th>\n",
       "    </tr>\n",
       "    <tr>\n",
       "      <th>id</th>\n",
       "      <th></th>\n",
       "      <th></th>\n",
       "      <th></th>\n",
       "      <th></th>\n",
       "      <th></th>\n",
       "      <th></th>\n",
       "      <th></th>\n",
       "      <th></th>\n",
       "      <th></th>\n",
       "      <th></th>\n",
       "      <th></th>\n",
       "      <th></th>\n",
       "      <th></th>\n",
       "    </tr>\n",
       "  </thead>\n",
       "  <tbody>\n",
       "    <tr>\n",
       "      <th>9046</th>\n",
       "      <td>0</td>\n",
       "      <td>67.0</td>\n",
       "      <td>0</td>\n",
       "      <td>1</td>\n",
       "      <td>1</td>\n",
       "      <td>1</td>\n",
       "      <td>228.69</td>\n",
       "      <td>36.60</td>\n",
       "      <td>1</td>\n",
       "      <td>0</td>\n",
       "      <td>1</td>\n",
       "      <td>0</td>\n",
       "      <td>0</td>\n",
       "    </tr>\n",
       "    <tr>\n",
       "      <th>51676</th>\n",
       "      <td>1</td>\n",
       "      <td>61.0</td>\n",
       "      <td>0</td>\n",
       "      <td>0</td>\n",
       "      <td>1</td>\n",
       "      <td>0</td>\n",
       "      <td>202.21</td>\n",
       "      <td>28.89</td>\n",
       "      <td>1</td>\n",
       "      <td>0</td>\n",
       "      <td>0</td>\n",
       "      <td>1</td>\n",
       "      <td>0</td>\n",
       "    </tr>\n",
       "    <tr>\n",
       "      <th>31112</th>\n",
       "      <td>0</td>\n",
       "      <td>80.0</td>\n",
       "      <td>0</td>\n",
       "      <td>1</td>\n",
       "      <td>1</td>\n",
       "      <td>0</td>\n",
       "      <td>105.92</td>\n",
       "      <td>32.50</td>\n",
       "      <td>1</td>\n",
       "      <td>0</td>\n",
       "      <td>0</td>\n",
       "      <td>1</td>\n",
       "      <td>0</td>\n",
       "    </tr>\n",
       "  </tbody>\n",
       "</table>\n",
       "</div>"
      ],
      "text/plain": [
       "       gender   age  hypertension  heart_disease  ever_married  \\\n",
       "id                                                               \n",
       "9046        0  67.0             0              1             1   \n",
       "51676       1  61.0             0              0             1   \n",
       "31112       0  80.0             0              1             1   \n",
       "\n",
       "       Residence_type  avg_glucose_level    bmi  stroke  \\\n",
       "id                                                        \n",
       "9046                1             228.69  36.60       1   \n",
       "51676               0             202.21  28.89       1   \n",
       "31112               0             105.92  32.50       1   \n",
       "\n",
       "       smoking_status_Unknown  smoking_status_formerly smoked  \\\n",
       "id                                                              \n",
       "9046                        0                               1   \n",
       "51676                       0                               0   \n",
       "31112                       0                               0   \n",
       "\n",
       "       smoking_status_never smoked  smoking_status_smokes  \n",
       "id                                                         \n",
       "9046                             0                      0  \n",
       "51676                            1                      0  \n",
       "31112                            1                      0  "
      ]
     },
     "execution_count": 26,
     "metadata": {},
     "output_type": "execute_result"
    }
   ],
   "source": [
    "#verfier les modification \n",
    "df.head(3)"
   ]
  },
  {
   "cell_type": "code",
   "execution_count": 27,
   "id": "934a76c5",
   "metadata": {},
   "outputs": [
    {
     "data": {
      "text/plain": [
       "(5109, 13)"
      ]
     },
     "execution_count": 27,
     "metadata": {},
     "output_type": "execute_result"
    }
   ],
   "source": [
    "#revoir la nouvelle dimension avec les colonnes crées \n",
    "df.shape"
   ]
  },
  {
   "cell_type": "markdown",
   "id": "6e7d1d3b",
   "metadata": {},
   "source": [
    "**3.Modeling and evaualtion**"
   ]
  },
  {
   "cell_type": "markdown",
   "id": "bde5eb84",
   "metadata": {},
   "source": [
    "*3.1separation du dataframe  en features(X) et target (y)*"
   ]
  },
  {
   "cell_type": "code",
   "execution_count": 28,
   "id": "1608934b",
   "metadata": {},
   "outputs": [],
   "source": [
    "#separation des variables explicatives dans un dataframe X et la variable cible dans y.\n",
    "X = df.drop(\"stroke\", axis = 1)\n",
    "y = df[\"stroke\"]"
   ]
  },
  {
   "cell_type": "code",
   "execution_count": 29,
   "id": "7cd3522d",
   "metadata": {},
   "outputs": [
    {
     "name": "stdout",
     "output_type": "stream",
     "text": [
      " X (5109, 12) \n",
      " y (5109,)\n"
     ]
    }
   ],
   "source": [
    "print(\" X\",X.shape,\"\\n\",\"y\",y.shape)"
   ]
  },
  {
   "cell_type": "markdown",
   "id": "bb02a699",
   "metadata": {},
   "source": [
    "*3.2Train Test Split*"
   ]
  },
  {
   "cell_type": "code",
   "execution_count": 30,
   "id": "e1d276e0",
   "metadata": {},
   "outputs": [],
   "source": [
    "#Separation du dataset en train_set et test_set \n",
    "X_train, X_test, y_train, y_test = train_test_split(X, y, test_size=0.30, random_state=42)"
   ]
  },
  {
   "cell_type": "code",
   "execution_count": 31,
   "id": "14fa9c71",
   "metadata": {},
   "outputs": [
    {
     "name": "stdout",
     "output_type": "stream",
     "text": [
      " X_train (3576, 12) \n",
      " X_test (1533, 12) \n",
      " y_train (3576,) \n",
      " y_test (1533,)\n"
     ]
    }
   ],
   "source": [
    "# On affiche les dimensions des datasets après avoir appliqué la fonction \n",
    "print(\" X_train\" ,X_train.shape,\"\\n\" ,\"X_test\",X_test.shape,\"\\n\",\"y_train\",y_train.shape,\"\\n\",\"y_test\",y_test.shape)"
   ]
  },
  {
   "cell_type": "markdown",
   "id": "bb15fa7a",
   "metadata": {},
   "source": [
    "*3.2.Training and Predicting*"
   ]
  },
  {
   "cell_type": "markdown",
   "id": "04fe86a1",
   "metadata": {},
   "source": [
    "*3.2.1 DecisionTreeClassifier*"
   ]
  },
  {
   "cell_type": "code",
   "execution_count": 32,
   "id": "9c067470",
   "metadata": {},
   "outputs": [],
   "source": [
    "pipeline_dt=make_pipeline(RobustScaler(),DecisionTreeClassifier())"
   ]
  },
  {
   "cell_type": "code",
   "execution_count": 33,
   "id": "d5a0930f",
   "metadata": {},
   "outputs": [],
   "source": [
    "hyperparametres_dt={\n",
    "\"decisiontreeclassifier__max_depth\":[150, 155, 160],\n",
    "\"decisiontreeclassifier__min_samples_split\":[1, 2, 3],\n",
    "\"decisiontreeclassifier__min_samples_leaf\":[1, 2, 3]  \n",
    "}"
   ]
  },
  {
   "cell_type": "code",
   "execution_count": 34,
   "id": "6e87b942",
   "metadata": {},
   "outputs": [],
   "source": [
    "machine_dt=GridSearchCV(pipeline_dt,hyperparametres_dt ,cv=10)"
   ]
  },
  {
   "cell_type": "code",
   "execution_count": 35,
   "id": "a857fbab",
   "metadata": {},
   "outputs": [
    {
     "name": "stderr",
     "output_type": "stream",
     "text": [
      "C:\\Users\\akli_\\anaconda3\\lib\\site-packages\\sklearn\\model_selection\\_validation.py:372: FitFailedWarning: \n",
      "90 fits failed out of a total of 270.\n",
      "The score on these train-test partitions for these parameters will be set to nan.\n",
      "If these failures are not expected, you can try to debug them by setting error_score='raise'.\n",
      "\n",
      "Below are more details about the failures:\n",
      "--------------------------------------------------------------------------------\n",
      "90 fits failed with the following error:\n",
      "Traceback (most recent call last):\n",
      "  File \"C:\\Users\\akli_\\anaconda3\\lib\\site-packages\\sklearn\\model_selection\\_validation.py\", line 681, in _fit_and_score\n",
      "    estimator.fit(X_train, y_train, **fit_params)\n",
      "  File \"C:\\Users\\akli_\\anaconda3\\lib\\site-packages\\sklearn\\pipeline.py\", line 394, in fit\n",
      "    self._final_estimator.fit(Xt, y, **fit_params_last_step)\n",
      "  File \"C:\\Users\\akli_\\anaconda3\\lib\\site-packages\\sklearn\\tree\\_classes.py\", line 937, in fit\n",
      "    super().fit(\n",
      "  File \"C:\\Users\\akli_\\anaconda3\\lib\\site-packages\\sklearn\\tree\\_classes.py\", line 250, in fit\n",
      "    raise ValueError(\n",
      "ValueError: min_samples_split must be an integer greater than 1 or a float in (0.0, 1.0]; got the integer 1\n",
      "\n",
      "  warnings.warn(some_fits_failed_message, FitFailedWarning)\n",
      "C:\\Users\\akli_\\anaconda3\\lib\\site-packages\\sklearn\\model_selection\\_search.py:969: UserWarning: One or more of the test scores are non-finite: [       nan 0.9186251  0.92198488        nan 0.93205014 0.93120824\n",
      "        nan 0.93260723 0.93372377        nan 0.91974555 0.92366321\n",
      "        nan 0.93372533 0.93288578        nan 0.93176846 0.93120667\n",
      "        nan 0.91807114 0.92142388        nan 0.93204857 0.93093047\n",
      "        nan 0.93120902 0.93568221]\n",
      "  warnings.warn(\n"
     ]
    },
    {
     "data": {
      "text/plain": [
       "GridSearchCV(cv=10,\n",
       "             estimator=Pipeline(steps=[('robustscaler', RobustScaler()),\n",
       "                                       ('decisiontreeclassifier',\n",
       "                                        DecisionTreeClassifier())]),\n",
       "             param_grid={'decisiontreeclassifier__max_depth': [150, 155, 160],\n",
       "                         'decisiontreeclassifier__min_samples_leaf': [1, 2, 3],\n",
       "                         'decisiontreeclassifier__min_samples_split': [1, 2,\n",
       "                                                                       3]})"
      ]
     },
     "execution_count": 35,
     "metadata": {},
     "output_type": "execute_result"
    }
   ],
   "source": [
    "#entrainement \n",
    "machine_dt.fit(X_train,y_train)"
   ]
  },
  {
   "cell_type": "code",
   "execution_count": 36,
   "id": "125c7cc7",
   "metadata": {},
   "outputs": [
    {
     "data": {
      "text/plain": [
       "0.9356822058432313"
      ]
     },
     "execution_count": 36,
     "metadata": {},
     "output_type": "execute_result"
    }
   ],
   "source": [
    "machine_dt.best_score_"
   ]
  },
  {
   "cell_type": "code",
   "execution_count": 37,
   "id": "69e9bfea",
   "metadata": {},
   "outputs": [],
   "source": [
    "predictions_dt = machine_dt.predict(X_test)"
   ]
  },
  {
   "cell_type": "markdown",
   "id": "03713291",
   "metadata": {},
   "source": [
    "*3.2.2 XGBClassifier*"
   ]
  },
  {
   "cell_type": "code",
   "execution_count": 38,
   "id": "00e6edf7",
   "metadata": {},
   "outputs": [],
   "source": [
    "pipeline_XG=make_pipeline(RobustScaler(),XGBClassifier())\n",
    "\n"
   ]
  },
  {
   "cell_type": "code",
   "execution_count": 39,
   "id": "c3d8d419",
   "metadata": {},
   "outputs": [],
   "source": [
    "hyperparametres_XG={\n",
    "\"xgbclassifier__learning_rate\" :[0.1],\n",
    "\"xgbclassifier__max_depth\" :[10],\n",
    "\"xgbclassifier__min_child_weight\" :[5],\n",
    "\"xgbclassifier__n_estimators\" :[100], \n",
    "\"xgbclassifier__subsample\" :[0.45]}"
   ]
  },
  {
   "cell_type": "code",
   "execution_count": 40,
   "id": "e4619a7c",
   "metadata": {},
   "outputs": [],
   "source": [
    "machine_XG=GridSearchCV(pipeline_XG,hyperparametres_XG,cv=10)"
   ]
  },
  {
   "cell_type": "code",
   "execution_count": 41,
   "id": "afb4bcde",
   "metadata": {},
   "outputs": [
    {
     "name": "stderr",
     "output_type": "stream",
     "text": [
      "C:\\Users\\akli_\\anaconda3\\lib\\site-packages\\xgboost\\sklearn.py:1224: UserWarning: The use of label encoder in XGBClassifier is deprecated and will be removed in a future release. To remove this warning, do the following: 1) Pass option use_label_encoder=False when constructing XGBClassifier object; and 2) Encode your labels (y) as integers starting with 0, i.e. 0, 1, 2, ..., [num_class - 1].\n",
      "  warnings.warn(label_encoder_deprecation_msg, UserWarning)\n",
      "C:\\Users\\akli_\\anaconda3\\lib\\site-packages\\xgboost\\sklearn.py:1224: UserWarning: The use of label encoder in XGBClassifier is deprecated and will be removed in a future release. To remove this warning, do the following: 1) Pass option use_label_encoder=False when constructing XGBClassifier object; and 2) Encode your labels (y) as integers starting with 0, i.e. 0, 1, 2, ..., [num_class - 1].\n",
      "  warnings.warn(label_encoder_deprecation_msg, UserWarning)\n"
     ]
    },
    {
     "name": "stdout",
     "output_type": "stream",
     "text": [
      "[00:49:35] WARNING: C:/Users/Administrator/workspace/xgboost-win64_release_1.5.0/src/learner.cc:1115: Starting in XGBoost 1.3.0, the default evaluation metric used with the objective 'binary:logistic' was changed from 'error' to 'logloss'. Explicitly set eval_metric if you'd like to restore the old behavior.\n",
      "[00:49:35] WARNING: C:/Users/Administrator/workspace/xgboost-win64_release_1.5.0/src/learner.cc:1115: Starting in XGBoost 1.3.0, the default evaluation metric used with the objective 'binary:logistic' was changed from 'error' to 'logloss'. Explicitly set eval_metric if you'd like to restore the old behavior.\n"
     ]
    },
    {
     "name": "stderr",
     "output_type": "stream",
     "text": [
      "C:\\Users\\akli_\\anaconda3\\lib\\site-packages\\xgboost\\sklearn.py:1224: UserWarning: The use of label encoder in XGBClassifier is deprecated and will be removed in a future release. To remove this warning, do the following: 1) Pass option use_label_encoder=False when constructing XGBClassifier object; and 2) Encode your labels (y) as integers starting with 0, i.e. 0, 1, 2, ..., [num_class - 1].\n",
      "  warnings.warn(label_encoder_deprecation_msg, UserWarning)\n",
      "C:\\Users\\akli_\\anaconda3\\lib\\site-packages\\xgboost\\sklearn.py:1224: UserWarning: The use of label encoder in XGBClassifier is deprecated and will be removed in a future release. To remove this warning, do the following: 1) Pass option use_label_encoder=False when constructing XGBClassifier object; and 2) Encode your labels (y) as integers starting with 0, i.e. 0, 1, 2, ..., [num_class - 1].\n",
      "  warnings.warn(label_encoder_deprecation_msg, UserWarning)\n"
     ]
    },
    {
     "name": "stdout",
     "output_type": "stream",
     "text": [
      "[00:49:35] WARNING: C:/Users/Administrator/workspace/xgboost-win64_release_1.5.0/src/learner.cc:1115: Starting in XGBoost 1.3.0, the default evaluation metric used with the objective 'binary:logistic' was changed from 'error' to 'logloss'. Explicitly set eval_metric if you'd like to restore the old behavior.\n",
      "[00:49:35] WARNING: C:/Users/Administrator/workspace/xgboost-win64_release_1.5.0/src/learner.cc:1115: Starting in XGBoost 1.3.0, the default evaluation metric used with the objective 'binary:logistic' was changed from 'error' to 'logloss'. Explicitly set eval_metric if you'd like to restore the old behavior.\n"
     ]
    },
    {
     "name": "stderr",
     "output_type": "stream",
     "text": [
      "C:\\Users\\akli_\\anaconda3\\lib\\site-packages\\xgboost\\sklearn.py:1224: UserWarning: The use of label encoder in XGBClassifier is deprecated and will be removed in a future release. To remove this warning, do the following: 1) Pass option use_label_encoder=False when constructing XGBClassifier object; and 2) Encode your labels (y) as integers starting with 0, i.e. 0, 1, 2, ..., [num_class - 1].\n",
      "  warnings.warn(label_encoder_deprecation_msg, UserWarning)\n",
      "C:\\Users\\akli_\\anaconda3\\lib\\site-packages\\xgboost\\sklearn.py:1224: UserWarning: The use of label encoder in XGBClassifier is deprecated and will be removed in a future release. To remove this warning, do the following: 1) Pass option use_label_encoder=False when constructing XGBClassifier object; and 2) Encode your labels (y) as integers starting with 0, i.e. 0, 1, 2, ..., [num_class - 1].\n",
      "  warnings.warn(label_encoder_deprecation_msg, UserWarning)\n"
     ]
    },
    {
     "name": "stdout",
     "output_type": "stream",
     "text": [
      "[00:49:35] WARNING: C:/Users/Administrator/workspace/xgboost-win64_release_1.5.0/src/learner.cc:1115: Starting in XGBoost 1.3.0, the default evaluation metric used with the objective 'binary:logistic' was changed from 'error' to 'logloss'. Explicitly set eval_metric if you'd like to restore the old behavior.\n",
      "[00:49:36] WARNING: C:/Users/Administrator/workspace/xgboost-win64_release_1.5.0/src/learner.cc:1115: Starting in XGBoost 1.3.0, the default evaluation metric used with the objective 'binary:logistic' was changed from 'error' to 'logloss'. Explicitly set eval_metric if you'd like to restore the old behavior.\n"
     ]
    },
    {
     "name": "stderr",
     "output_type": "stream",
     "text": [
      "C:\\Users\\akli_\\anaconda3\\lib\\site-packages\\xgboost\\sklearn.py:1224: UserWarning: The use of label encoder in XGBClassifier is deprecated and will be removed in a future release. To remove this warning, do the following: 1) Pass option use_label_encoder=False when constructing XGBClassifier object; and 2) Encode your labels (y) as integers starting with 0, i.e. 0, 1, 2, ..., [num_class - 1].\n",
      "  warnings.warn(label_encoder_deprecation_msg, UserWarning)\n",
      "C:\\Users\\akli_\\anaconda3\\lib\\site-packages\\xgboost\\sklearn.py:1224: UserWarning: The use of label encoder in XGBClassifier is deprecated and will be removed in a future release. To remove this warning, do the following: 1) Pass option use_label_encoder=False when constructing XGBClassifier object; and 2) Encode your labels (y) as integers starting with 0, i.e. 0, 1, 2, ..., [num_class - 1].\n",
      "  warnings.warn(label_encoder_deprecation_msg, UserWarning)\n"
     ]
    },
    {
     "name": "stdout",
     "output_type": "stream",
     "text": [
      "[00:49:36] WARNING: C:/Users/Administrator/workspace/xgboost-win64_release_1.5.0/src/learner.cc:1115: Starting in XGBoost 1.3.0, the default evaluation metric used with the objective 'binary:logistic' was changed from 'error' to 'logloss'. Explicitly set eval_metric if you'd like to restore the old behavior.\n",
      "[00:49:36] WARNING: C:/Users/Administrator/workspace/xgboost-win64_release_1.5.0/src/learner.cc:1115: Starting in XGBoost 1.3.0, the default evaluation metric used with the objective 'binary:logistic' was changed from 'error' to 'logloss'. Explicitly set eval_metric if you'd like to restore the old behavior.\n"
     ]
    },
    {
     "name": "stderr",
     "output_type": "stream",
     "text": [
      "C:\\Users\\akli_\\anaconda3\\lib\\site-packages\\xgboost\\sklearn.py:1224: UserWarning: The use of label encoder in XGBClassifier is deprecated and will be removed in a future release. To remove this warning, do the following: 1) Pass option use_label_encoder=False when constructing XGBClassifier object; and 2) Encode your labels (y) as integers starting with 0, i.e. 0, 1, 2, ..., [num_class - 1].\n",
      "  warnings.warn(label_encoder_deprecation_msg, UserWarning)\n",
      "C:\\Users\\akli_\\anaconda3\\lib\\site-packages\\xgboost\\sklearn.py:1224: UserWarning: The use of label encoder in XGBClassifier is deprecated and will be removed in a future release. To remove this warning, do the following: 1) Pass option use_label_encoder=False when constructing XGBClassifier object; and 2) Encode your labels (y) as integers starting with 0, i.e. 0, 1, 2, ..., [num_class - 1].\n",
      "  warnings.warn(label_encoder_deprecation_msg, UserWarning)\n"
     ]
    },
    {
     "name": "stdout",
     "output_type": "stream",
     "text": [
      "[00:49:36] WARNING: C:/Users/Administrator/workspace/xgboost-win64_release_1.5.0/src/learner.cc:1115: Starting in XGBoost 1.3.0, the default evaluation metric used with the objective 'binary:logistic' was changed from 'error' to 'logloss'. Explicitly set eval_metric if you'd like to restore the old behavior.\n",
      "[00:49:36] WARNING: C:/Users/Administrator/workspace/xgboost-win64_release_1.5.0/src/learner.cc:1115: Starting in XGBoost 1.3.0, the default evaluation metric used with the objective 'binary:logistic' was changed from 'error' to 'logloss'. Explicitly set eval_metric if you'd like to restore the old behavior.\n"
     ]
    },
    {
     "name": "stderr",
     "output_type": "stream",
     "text": [
      "C:\\Users\\akli_\\anaconda3\\lib\\site-packages\\xgboost\\sklearn.py:1224: UserWarning: The use of label encoder in XGBClassifier is deprecated and will be removed in a future release. To remove this warning, do the following: 1) Pass option use_label_encoder=False when constructing XGBClassifier object; and 2) Encode your labels (y) as integers starting with 0, i.e. 0, 1, 2, ..., [num_class - 1].\n",
      "  warnings.warn(label_encoder_deprecation_msg, UserWarning)\n"
     ]
    },
    {
     "name": "stdout",
     "output_type": "stream",
     "text": [
      "[00:49:36] WARNING: C:/Users/Administrator/workspace/xgboost-win64_release_1.5.0/src/learner.cc:1115: Starting in XGBoost 1.3.0, the default evaluation metric used with the objective 'binary:logistic' was changed from 'error' to 'logloss'. Explicitly set eval_metric if you'd like to restore the old behavior.\n"
     ]
    },
    {
     "data": {
      "text/plain": [
       "GridSearchCV(cv=10,\n",
       "             estimator=Pipeline(steps=[('robustscaler', RobustScaler()),\n",
       "                                       ('xgbclassifier',\n",
       "                                        XGBClassifier(base_score=None,\n",
       "                                                      booster=None,\n",
       "                                                      colsample_bylevel=None,\n",
       "                                                      colsample_bynode=None,\n",
       "                                                      colsample_bytree=None,\n",
       "                                                      enable_categorical=False,\n",
       "                                                      gamma=None, gpu_id=None,\n",
       "                                                      importance_type=None,\n",
       "                                                      interaction_constraints=None,\n",
       "                                                      learning_rate=None,\n",
       "                                                      max_delta_step=None,\n",
       "                                                      max_depth...\n",
       "                                                      predictor=None,\n",
       "                                                      random_state=None,\n",
       "                                                      reg_alpha=None,\n",
       "                                                      reg_lambda=None,\n",
       "                                                      scale_pos_weight=None,\n",
       "                                                      subsample=None,\n",
       "                                                      tree_method=None,\n",
       "                                                      validate_parameters=None,\n",
       "                                                      verbosity=None))]),\n",
       "             param_grid={'xgbclassifier__learning_rate': [0.1],\n",
       "                         'xgbclassifier__max_depth': [10],\n",
       "                         'xgbclassifier__min_child_weight': [5],\n",
       "                         'xgbclassifier__n_estimators': [100],\n",
       "                         'xgbclassifier__subsample': [0.45]})"
      ]
     },
     "execution_count": 41,
     "metadata": {},
     "output_type": "execute_result"
    }
   ],
   "source": [
    "#entrainement \n",
    "machine_XG.fit(X_train,y_train)"
   ]
  },
  {
   "cell_type": "code",
   "execution_count": 42,
   "id": "2298d3d7",
   "metadata": {},
   "outputs": [
    {
     "data": {
      "text/plain": [
       "0.9535796441481621"
      ]
     },
     "execution_count": 42,
     "metadata": {},
     "output_type": "execute_result"
    }
   ],
   "source": [
    "machine_XG.best_score_"
   ]
  },
  {
   "cell_type": "code",
   "execution_count": 43,
   "id": "aa2403d1",
   "metadata": {},
   "outputs": [],
   "source": [
    "predictions_XG = machine_XG.predict(X_test)"
   ]
  },
  {
   "cell_type": "markdown",
   "id": "520b536c",
   "metadata": {},
   "source": [
    "*3.3 Evaluation*"
   ]
  },
  {
   "cell_type": "code",
   "execution_count": 44,
   "id": "abb3f675",
   "metadata": {},
   "outputs": [
    {
     "name": "stdout",
     "output_type": "stream",
     "text": [
      "\n",
      "Matrice de Confusion:\n",
      " [[1401   43]\n",
      " [  79   10]]\n",
      "\n",
      "Rapports de classification du modèle DecisionTreeClassifier:\n",
      "               precision    recall  f1-score   support\n",
      "\n",
      "           0       0.95      0.97      0.96      1444\n",
      "           1       0.19      0.11      0.14        89\n",
      "\n",
      "    accuracy                           0.92      1533\n",
      "   macro avg       0.57      0.54      0.55      1533\n",
      "weighted avg       0.90      0.92      0.91      1533\n",
      "\n"
     ]
    }
   ],
   "source": [
    "#Mesure de performance classification du model DecisionTreeClassifier \n",
    "\n",
    "#matrci de confusion\n",
    "m=confusion_matrix(y_test,predictions_dt)\n",
    "print(\"\\nMatrice de Confusion:\\n\", m) \n",
    "\n",
    "#reposrting de classification XGBClassifier\n",
    "reporting=classification_report(y_test,predictions_dt)\n",
    "print(\"\\nRapports de classification du modèle DecisionTreeClassifier:\\n\", reporting)"
   ]
  },
  {
   "cell_type": "code",
   "execution_count": 45,
   "id": "d6fbe6cc",
   "metadata": {},
   "outputs": [
    {
     "name": "stdout",
     "output_type": "stream",
     "text": [
      "\n",
      "Matrice de Confusion:\n",
      " [[1444    0]\n",
      " [  88    1]]\n",
      "\n",
      "Rapports de classification du modèle XGBClassifier :\n",
      "               precision    recall  f1-score   support\n",
      "\n",
      "           0       0.94      1.00      0.97      1444\n",
      "           1       1.00      0.01      0.02        89\n",
      "\n",
      "    accuracy                           0.94      1533\n",
      "   macro avg       0.97      0.51      0.50      1533\n",
      "weighted avg       0.95      0.94      0.92      1533\n",
      "\n"
     ]
    }
   ],
   "source": [
    "#Mesure de performance classification XGBClassifier\n",
    "\n",
    "#matrci de confusion\n",
    "m=confusion_matrix(y_test,predictions_XG)\n",
    "print(\"\\nMatrice de Confusion:\\n\", m) \n",
    "\n",
    "#reposrting de classification \n",
    "reporting=classification_report(y_test,predictions_XG)\n",
    "print(\"\\nRapports de classification du modèle XGBClassifier :\\n\", reporting)"
   ]
  },
  {
   "cell_type": "markdown",
   "id": "7dc07cdf",
   "metadata": {},
   "source": [
    "*3.4 Interprétation des résultats*"
   ]
  },
  {
   "cell_type": "markdown",
   "id": "27c1d8a4",
   "metadata": {},
   "source": [
    "Les deux model indiquement clairement que la classe 1 n’est pas prédictible du fait de déséquilibre du dataset"
   ]
  },
  {
   "cell_type": "markdown",
   "id": "c55eb091",
   "metadata": {},
   "source": [
    "Classification déséquilibrée:\n",
    "\n",
    "Le nombre de cas positif (strokes=1) est trop faible dans le jeu de données. \n",
    "Nous allons augmenter le nombre d’observations de la classe minoritaire (oversampling). Nous privilégions le sur-échantillonnage car nous avons seulement quelques milliers de données."
   ]
  },
  {
   "cell_type": "markdown",
   "id": "cdbae846",
   "metadata": {},
   "source": [
    "**4.Oversampling**"
   ]
  },
  {
   "cell_type": "markdown",
   "id": "5fcdd036",
   "metadata": {},
   "source": [
    "*4.1 Oversampling data_train*"
   ]
  },
  {
   "cell_type": "code",
   "execution_count": 46,
   "id": "b8c4923e",
   "metadata": {},
   "outputs": [],
   "source": [
    "# Sur-échantillonnage ou oversampling\n",
    "rOs = RandomOverSampler()\n",
    "X_rOs_train,y_rOs_train  = rOs.fit_resample(X_train, y_train)"
   ]
  },
  {
   "cell_type": "code",
   "execution_count": 47,
   "id": "0d5ca128",
   "metadata": {},
   "outputs": [
    {
     "name": "stdout",
     "output_type": "stream",
     "text": [
      " X_rOs_train (6832, 12) \n",
      " X_test (1533, 12) \n",
      " y_rOs_train (6832,) \n",
      " y_test (1533,)\n"
     ]
    }
   ],
   "source": [
    "# On affiche les dimensions des datasets après avoir appliqué la fonction \n",
    "print(\" X_rOs_train\" ,X_rOs_train.shape,\"\\n\" ,\"X_test\",X_test.shape,\"\\n\",\"y_rOs_train\",y_rOs_train.shape,\"\\n\",\"y_test\",y_test.shape)"
   ]
  },
  {
   "cell_type": "markdown",
   "id": "68f080a1",
   "metadata": {},
   "source": [
    "avant oversampling  : \n",
    "\n",
    "  X_train (3576, 12)   X_test (1533, 12)\n",
    "  y_train (3576,)      y_test (1533\n",
    "                           \n",
    "apres oversampling:\n",
    "\n",
    "  X_rOs_train(6832, 12)    X_test (1533, 12) \n",
    "  y_rOs_train (6832,)       y_test (1533,)                       \n",
    "                       "
   ]
  },
  {
   "cell_type": "code",
   "execution_count": 48,
   "id": "5fbd95a8",
   "metadata": {},
   "outputs": [
    {
     "name": "stdout",
     "output_type": "stream",
     "text": [
      "Total lignes: 3576\n",
      "Lignes 1: 3416\n",
      "Lignes 0: 3416\n"
     ]
    },
    {
     "data": {
      "image/png": "[encoded data removed]",
      "text/plain": [
       "<Figure size 432x288 with 1 Axes>"
      ]
     },
     "metadata": {},
     "output_type": "display_data"
    }
   ],
   "source": [
    "#la nouvelle repartion de la target \n",
    "sns.set_style('whitegrid')\n",
    "sns.countplot(x=y_rOs_train,palette='RdBu_r')\n",
    "print(\"Total lignes:\",len(y_train))\n",
    "print(\"Lignes 1:\",len(np.where(y_rOs_train==1)[0]))\n",
    "print(\"Lignes 0:\",len(np.where(y_rOs_train==0)[0]))"
   ]
  },
  {
   "cell_type": "markdown",
   "id": "31736205",
   "metadata": {},
   "source": [
    "*4.2Training and Predicting*"
   ]
  },
  {
   "cell_type": "markdown",
   "id": "ddb5f921",
   "metadata": {},
   "source": [
    "*4.2.1 DecisionTreeClassifier*"
   ]
  },
  {
   "cell_type": "code",
   "execution_count": 49,
   "id": "266e2c4b",
   "metadata": {},
   "outputs": [],
   "source": [
    "pipeline_dt2=make_pipeline(RobustScaler(),DecisionTreeClassifier())"
   ]
  },
  {
   "cell_type": "code",
   "execution_count": 50,
   "id": "d782b01d",
   "metadata": {},
   "outputs": [],
   "source": [
    "hyperparametres_dt2={\n",
    "\"decisiontreeclassifier__max_depth\":[150, 155, 160],\n",
    "\"decisiontreeclassifier__min_samples_split\":[1, 2, 3],\n",
    "\"decisiontreeclassifier__min_samples_leaf\":[1, 2, 3]  \n",
    "                     }"
   ]
  },
  {
   "cell_type": "code",
   "execution_count": 51,
   "id": "285af98f",
   "metadata": {},
   "outputs": [],
   "source": [
    "machine_dt2=GridSearchCV(pipeline_dt2,hyperparametres_dt2 ,cv=10)"
   ]
  },
  {
   "cell_type": "code",
   "execution_count": 52,
   "id": "1ef05c03",
   "metadata": {},
   "outputs": [
    {
     "name": "stderr",
     "output_type": "stream",
     "text": [
      "C:\\Users\\akli_\\anaconda3\\lib\\site-packages\\sklearn\\model_selection\\_validation.py:372: FitFailedWarning: \n",
      "90 fits failed out of a total of 270.\n",
      "The score on these train-test partitions for these parameters will be set to nan.\n",
      "If these failures are not expected, you can try to debug them by setting error_score='raise'.\n",
      "\n",
      "Below are more details about the failures:\n",
      "--------------------------------------------------------------------------------\n",
      "90 fits failed with the following error:\n",
      "Traceback (most recent call last):\n",
      "  File \"C:\\Users\\akli_\\anaconda3\\lib\\site-packages\\sklearn\\model_selection\\_validation.py\", line 681, in _fit_and_score\n",
      "    estimator.fit(X_train, y_train, **fit_params)\n",
      "  File \"C:\\Users\\akli_\\anaconda3\\lib\\site-packages\\sklearn\\pipeline.py\", line 394, in fit\n",
      "    self._final_estimator.fit(Xt, y, **fit_params_last_step)\n",
      "  File \"C:\\Users\\akli_\\anaconda3\\lib\\site-packages\\sklearn\\tree\\_classes.py\", line 937, in fit\n",
      "    super().fit(\n",
      "  File \"C:\\Users\\akli_\\anaconda3\\lib\\site-packages\\sklearn\\tree\\_classes.py\", line 250, in fit\n",
      "    raise ValueError(\n",
      "ValueError: min_samples_split must be an integer greater than 1 or a float in (0.0, 1.0]; got the integer 1\n",
      "\n",
      "  warnings.warn(some_fits_failed_message, FitFailedWarning)\n",
      "C:\\Users\\akli_\\anaconda3\\lib\\site-packages\\sklearn\\model_selection\\_search.py:969: UserWarning: One or more of the test scores are non-finite: [       nan 0.97877805 0.97819197        nan 0.97336099 0.97467785\n",
      "        nan 0.97087283 0.97116629        nan 0.97760568 0.97863035\n",
      "        nan 0.97350762 0.97380001        nan 0.96999478 0.97101988\n",
      "        nan 0.97716837 0.97760611        nan 0.97292132 0.97379937\n",
      "        nan 0.97043402 0.9701414 ]\n",
      "  warnings.warn(\n"
     ]
    },
    {
     "data": {
      "text/plain": [
       "GridSearchCV(cv=10,\n",
       "             estimator=Pipeline(steps=[('robustscaler', RobustScaler()),\n",
       "                                       ('decisiontreeclassifier',\n",
       "                                        DecisionTreeClassifier())]),\n",
       "             param_grid={'decisiontreeclassifier__max_depth': [150, 155, 160],\n",
       "                         'decisiontreeclassifier__min_samples_leaf': [1, 2, 3],\n",
       "                         'decisiontreeclassifier__min_samples_split': [1, 2,\n",
       "                                                                       3]})"
      ]
     },
     "execution_count": 52,
     "metadata": {},
     "output_type": "execute_result"
    }
   ],
   "source": [
    "#entrainement \n",
    "machine_dt2.fit(X_rOs_train,y_rOs_train)"
   ]
  },
  {
   "cell_type": "code",
   "execution_count": 53,
   "id": "2d81a444",
   "metadata": {},
   "outputs": [
    {
     "data": {
      "text/plain": [
       "0.9787780517668011"
      ]
     },
     "execution_count": 53,
     "metadata": {},
     "output_type": "execute_result"
    }
   ],
   "source": [
    "machine_dt2.best_score_"
   ]
  },
  {
   "cell_type": "code",
   "execution_count": 54,
   "id": "2be751dc",
   "metadata": {},
   "outputs": [],
   "source": [
    "predictions_dt2 = machine_dt2.predict(X_test)"
   ]
  },
  {
   "cell_type": "markdown",
   "id": "eb3e3acd",
   "metadata": {},
   "source": [
    "*4.2.2 XGBClassifier*"
   ]
  },
  {
   "cell_type": "code",
   "execution_count": 55,
   "id": "7e08eced",
   "metadata": {},
   "outputs": [],
   "source": [
    "pipeline_XG2=make_pipeline(RobustScaler(),XGBClassifier())"
   ]
  },
  {
   "cell_type": "code",
   "execution_count": 56,
   "id": "31cb514d",
   "metadata": {},
   "outputs": [],
   "source": [
    "hyperparametres_XG2={\n",
    "\"xgbclassifier__learning_rate\" :[0.1],\n",
    "\"xgbclassifier__max_depth\" :[10],\n",
    "\"xgbclassifier__min_child_weight\" :[5],\n",
    "\"xgbclassifier__n_estimators\" :[100], \n",
    "\"xgbclassifier__subsample\" :[0.45]}"
   ]
  },
  {
   "cell_type": "code",
   "execution_count": 57,
   "id": "53f4c348",
   "metadata": {},
   "outputs": [],
   "source": [
    "machine_XG2=GridSearchCV(pipeline_XG2,hyperparametres_XG2,cv=10)"
   ]
  },
  {
   "cell_type": "code",
   "execution_count": 58,
   "id": "cdb3c958",
   "metadata": {},
   "outputs": [
    {
     "name": "stderr",
     "output_type": "stream",
     "text": [
      "C:\\Users\\akli_\\anaconda3\\lib\\site-packages\\xgboost\\sklearn.py:1224: UserWarning: The use of label encoder in XGBClassifier is deprecated and will be removed in a future release. To remove this warning, do the following: 1) Pass option use_label_encoder=False when constructing XGBClassifier object; and 2) Encode your labels (y) as integers starting with 0, i.e. 0, 1, 2, ..., [num_class - 1].\n",
      "  warnings.warn(label_encoder_deprecation_msg, UserWarning)\n"
     ]
    },
    {
     "name": "stdout",
     "output_type": "stream",
     "text": [
      "[00:49:41] WARNING: C:/Users/Administrator/workspace/xgboost-win64_release_1.5.0/src/learner.cc:1115: Starting in XGBoost 1.3.0, the default evaluation metric used with the objective 'binary:logistic' was changed from 'error' to 'logloss'. Explicitly set eval_metric if you'd like to restore the old behavior.\n"
     ]
    },
    {
     "name": "stderr",
     "output_type": "stream",
     "text": [
      "C:\\Users\\akli_\\anaconda3\\lib\\site-packages\\xgboost\\sklearn.py:1224: UserWarning: The use of label encoder in XGBClassifier is deprecated and will be removed in a future release. To remove this warning, do the following: 1) Pass option use_label_encoder=False when constructing XGBClassifier object; and 2) Encode your labels (y) as integers starting with 0, i.e. 0, 1, 2, ..., [num_class - 1].\n",
      "  warnings.warn(label_encoder_deprecation_msg, UserWarning)\n"
     ]
    },
    {
     "name": "stdout",
     "output_type": "stream",
     "text": [
      "[00:49:41] WARNING: C:/Users/Administrator/workspace/xgboost-win64_release_1.5.0/src/learner.cc:1115: Starting in XGBoost 1.3.0, the default evaluation metric used with the objective 'binary:logistic' was changed from 'error' to 'logloss'. Explicitly set eval_metric if you'd like to restore the old behavior.\n"
     ]
    },
    {
     "name": "stderr",
     "output_type": "stream",
     "text": [
      "C:\\Users\\akli_\\anaconda3\\lib\\site-packages\\xgboost\\sklearn.py:1224: UserWarning: The use of label encoder in XGBClassifier is deprecated and will be removed in a future release. To remove this warning, do the following: 1) Pass option use_label_encoder=False when constructing XGBClassifier object; and 2) Encode your labels (y) as integers starting with 0, i.e. 0, 1, 2, ..., [num_class - 1].\n",
      "  warnings.warn(label_encoder_deprecation_msg, UserWarning)\n"
     ]
    },
    {
     "name": "stdout",
     "output_type": "stream",
     "text": [
      "[00:49:41] WARNING: C:/Users/Administrator/workspace/xgboost-win64_release_1.5.0/src/learner.cc:1115: Starting in XGBoost 1.3.0, the default evaluation metric used with the objective 'binary:logistic' was changed from 'error' to 'logloss'. Explicitly set eval_metric if you'd like to restore the old behavior.\n"
     ]
    },
    {
     "name": "stderr",
     "output_type": "stream",
     "text": [
      "C:\\Users\\akli_\\anaconda3\\lib\\site-packages\\xgboost\\sklearn.py:1224: UserWarning: The use of label encoder in XGBClassifier is deprecated and will be removed in a future release. To remove this warning, do the following: 1) Pass option use_label_encoder=False when constructing XGBClassifier object; and 2) Encode your labels (y) as integers starting with 0, i.e. 0, 1, 2, ..., [num_class - 1].\n",
      "  warnings.warn(label_encoder_deprecation_msg, UserWarning)\n"
     ]
    },
    {
     "name": "stdout",
     "output_type": "stream",
     "text": [
      "[00:49:42] WARNING: C:/Users/Administrator/workspace/xgboost-win64_release_1.5.0/src/learner.cc:1115: Starting in XGBoost 1.3.0, the default evaluation metric used with the objective 'binary:logistic' was changed from 'error' to 'logloss'. Explicitly set eval_metric if you'd like to restore the old behavior.\n"
     ]
    },
    {
     "name": "stderr",
     "output_type": "stream",
     "text": [
      "C:\\Users\\akli_\\anaconda3\\lib\\site-packages\\xgboost\\sklearn.py:1224: UserWarning: The use of label encoder in XGBClassifier is deprecated and will be removed in a future release. To remove this warning, do the following: 1) Pass option use_label_encoder=False when constructing XGBClassifier object; and 2) Encode your labels (y) as integers starting with 0, i.e. 0, 1, 2, ..., [num_class - 1].\n",
      "  warnings.warn(label_encoder_deprecation_msg, UserWarning)\n"
     ]
    },
    {
     "name": "stdout",
     "output_type": "stream",
     "text": [
      "[00:49:42] WARNING: C:/Users/Administrator/workspace/xgboost-win64_release_1.5.0/src/learner.cc:1115: Starting in XGBoost 1.3.0, the default evaluation metric used with the objective 'binary:logistic' was changed from 'error' to 'logloss'. Explicitly set eval_metric if you'd like to restore the old behavior.\n"
     ]
    },
    {
     "name": "stderr",
     "output_type": "stream",
     "text": [
      "C:\\Users\\akli_\\anaconda3\\lib\\site-packages\\xgboost\\sklearn.py:1224: UserWarning: The use of label encoder in XGBClassifier is deprecated and will be removed in a future release. To remove this warning, do the following: 1) Pass option use_label_encoder=False when constructing XGBClassifier object; and 2) Encode your labels (y) as integers starting with 0, i.e. 0, 1, 2, ..., [num_class - 1].\n",
      "  warnings.warn(label_encoder_deprecation_msg, UserWarning)\n"
     ]
    },
    {
     "name": "stdout",
     "output_type": "stream",
     "text": [
      "[00:49:42] WARNING: C:/Users/Administrator/workspace/xgboost-win64_release_1.5.0/src/learner.cc:1115: Starting in XGBoost 1.3.0, the default evaluation metric used with the objective 'binary:logistic' was changed from 'error' to 'logloss'. Explicitly set eval_metric if you'd like to restore the old behavior.\n"
     ]
    },
    {
     "name": "stderr",
     "output_type": "stream",
     "text": [
      "C:\\Users\\akli_\\anaconda3\\lib\\site-packages\\xgboost\\sklearn.py:1224: UserWarning: The use of label encoder in XGBClassifier is deprecated and will be removed in a future release. To remove this warning, do the following: 1) Pass option use_label_encoder=False when constructing XGBClassifier object; and 2) Encode your labels (y) as integers starting with 0, i.e. 0, 1, 2, ..., [num_class - 1].\n",
      "  warnings.warn(label_encoder_deprecation_msg, UserWarning)\n"
     ]
    },
    {
     "name": "stdout",
     "output_type": "stream",
     "text": [
      "[00:49:43] WARNING: C:/Users/Administrator/workspace/xgboost-win64_release_1.5.0/src/learner.cc:1115: Starting in XGBoost 1.3.0, the default evaluation metric used with the objective 'binary:logistic' was changed from 'error' to 'logloss'. Explicitly set eval_metric if you'd like to restore the old behavior.\n"
     ]
    },
    {
     "name": "stderr",
     "output_type": "stream",
     "text": [
      "C:\\Users\\akli_\\anaconda3\\lib\\site-packages\\xgboost\\sklearn.py:1224: UserWarning: The use of label encoder in XGBClassifier is deprecated and will be removed in a future release. To remove this warning, do the following: 1) Pass option use_label_encoder=False when constructing XGBClassifier object; and 2) Encode your labels (y) as integers starting with 0, i.e. 0, 1, 2, ..., [num_class - 1].\n",
      "  warnings.warn(label_encoder_deprecation_msg, UserWarning)\n"
     ]
    },
    {
     "name": "stdout",
     "output_type": "stream",
     "text": [
      "[00:49:43] WARNING: C:/Users/Administrator/workspace/xgboost-win64_release_1.5.0/src/learner.cc:1115: Starting in XGBoost 1.3.0, the default evaluation metric used with the objective 'binary:logistic' was changed from 'error' to 'logloss'. Explicitly set eval_metric if you'd like to restore the old behavior.\n"
     ]
    },
    {
     "name": "stderr",
     "output_type": "stream",
     "text": [
      "C:\\Users\\akli_\\anaconda3\\lib\\site-packages\\xgboost\\sklearn.py:1224: UserWarning: The use of label encoder in XGBClassifier is deprecated and will be removed in a future release. To remove this warning, do the following: 1) Pass option use_label_encoder=False when constructing XGBClassifier object; and 2) Encode your labels (y) as integers starting with 0, i.e. 0, 1, 2, ..., [num_class - 1].\n",
      "  warnings.warn(label_encoder_deprecation_msg, UserWarning)\n"
     ]
    },
    {
     "name": "stdout",
     "output_type": "stream",
     "text": [
      "[00:49:43] WARNING: C:/Users/Administrator/workspace/xgboost-win64_release_1.5.0/src/learner.cc:1115: Starting in XGBoost 1.3.0, the default evaluation metric used with the objective 'binary:logistic' was changed from 'error' to 'logloss'. Explicitly set eval_metric if you'd like to restore the old behavior.\n"
     ]
    },
    {
     "name": "stderr",
     "output_type": "stream",
     "text": [
      "C:\\Users\\akli_\\anaconda3\\lib\\site-packages\\xgboost\\sklearn.py:1224: UserWarning: The use of label encoder in XGBClassifier is deprecated and will be removed in a future release. To remove this warning, do the following: 1) Pass option use_label_encoder=False when constructing XGBClassifier object; and 2) Encode your labels (y) as integers starting with 0, i.e. 0, 1, 2, ..., [num_class - 1].\n",
      "  warnings.warn(label_encoder_deprecation_msg, UserWarning)\n"
     ]
    },
    {
     "name": "stdout",
     "output_type": "stream",
     "text": [
      "[00:49:43] WARNING: C:/Users/Administrator/workspace/xgboost-win64_release_1.5.0/src/learner.cc:1115: Starting in XGBoost 1.3.0, the default evaluation metric used with the objective 'binary:logistic' was changed from 'error' to 'logloss'. Explicitly set eval_metric if you'd like to restore the old behavior.\n"
     ]
    },
    {
     "name": "stderr",
     "output_type": "stream",
     "text": [
      "C:\\Users\\akli_\\anaconda3\\lib\\site-packages\\xgboost\\sklearn.py:1224: UserWarning: The use of label encoder in XGBClassifier is deprecated and will be removed in a future release. To remove this warning, do the following: 1) Pass option use_label_encoder=False when constructing XGBClassifier object; and 2) Encode your labels (y) as integers starting with 0, i.e. 0, 1, 2, ..., [num_class - 1].\n",
      "  warnings.warn(label_encoder_deprecation_msg, UserWarning)\n"
     ]
    },
    {
     "name": "stdout",
     "output_type": "stream",
     "text": [
      "[00:49:44] WARNING: C:/Users/Administrator/workspace/xgboost-win64_release_1.5.0/src/learner.cc:1115: Starting in XGBoost 1.3.0, the default evaluation metric used with the objective 'binary:logistic' was changed from 'error' to 'logloss'. Explicitly set eval_metric if you'd like to restore the old behavior.\n"
     ]
    },
    {
     "data": {
      "text/plain": [
       "GridSearchCV(cv=10,\n",
       "             estimator=Pipeline(steps=[('robustscaler', RobustScaler()),\n",
       "                                       ('xgbclassifier',\n",
       "                                        XGBClassifier(base_score=None,\n",
       "                                                      booster=None,\n",
       "                                                      colsample_bylevel=None,\n",
       "                                                      colsample_bynode=None,\n",
       "                                                      colsample_bytree=None,\n",
       "                                                      enable_categorical=False,\n",
       "                                                      gamma=None, gpu_id=None,\n",
       "                                                      importance_type=None,\n",
       "                                                      interaction_constraints=None,\n",
       "                                                      learning_rate=None,\n",
       "                                                      max_delta_step=None,\n",
       "                                                      max_depth...\n",
       "                                                      predictor=None,\n",
       "                                                      random_state=None,\n",
       "                                                      reg_alpha=None,\n",
       "                                                      reg_lambda=None,\n",
       "                                                      scale_pos_weight=None,\n",
       "                                                      subsample=None,\n",
       "                                                      tree_method=None,\n",
       "                                                      validate_parameters=None,\n",
       "                                                      verbosity=None))]),\n",
       "             param_grid={'xgbclassifier__learning_rate': [0.1],\n",
       "                         'xgbclassifier__max_depth': [10],\n",
       "                         'xgbclassifier__min_child_weight': [5],\n",
       "                         'xgbclassifier__n_estimators': [100],\n",
       "                         'xgbclassifier__subsample': [0.45]})"
      ]
     },
     "execution_count": 58,
     "metadata": {},
     "output_type": "execute_result"
    }
   ],
   "source": [
    "#entrainement \n",
    "machine_XG2.fit(X_rOs_train,y_rOs_train)"
   ]
  },
  {
   "cell_type": "code",
   "execution_count": 59,
   "id": "2c6214c9",
   "metadata": {},
   "outputs": [
    {
     "data": {
      "text/plain": [
       "0.9607726918565327"
      ]
     },
     "execution_count": 59,
     "metadata": {},
     "output_type": "execute_result"
    }
   ],
   "source": [
    "machine_XG2.best_score_"
   ]
  },
  {
   "cell_type": "code",
   "execution_count": 60,
   "id": "b9a43fb9",
   "metadata": {},
   "outputs": [],
   "source": [
    "predictions_XG2 = machine_XG2.predict(X_test)"
   ]
  },
  {
   "cell_type": "markdown",
   "id": "624eb34e",
   "metadata": {},
   "source": [
    "*4.3Evaluation*"
   ]
  },
  {
   "cell_type": "code",
   "execution_count": 61,
   "id": "fa1d8282",
   "metadata": {},
   "outputs": [
    {
     "name": "stdout",
     "output_type": "stream",
     "text": [
      "\n",
      "Matrice de Confusion:\n",
      " [[1380   64]\n",
      " [  79   10]]\n",
      "\n",
      "Rapports de classification du modèle DecisionTreeClassifier :\n",
      "               precision    recall  f1-score   support\n",
      "\n",
      "           0       0.95      0.96      0.95      1444\n",
      "           1       0.14      0.11      0.12        89\n",
      "\n",
      "    accuracy                           0.91      1533\n",
      "   macro avg       0.54      0.53      0.54      1533\n",
      "weighted avg       0.90      0.91      0.90      1533\n",
      "\n"
     ]
    }
   ],
   "source": [
    "#Mesure de performance classification DecisionTreeClassifier avec oversampling train \n",
    "\n",
    "#matrice de confusion\n",
    "m=confusion_matrix(y_test,predictions_dt2)\n",
    "print(\"\\nMatrice de Confusion:\\n\", m) \n",
    "\n",
    "#reporting de classification \n",
    "reporting=classification_report(y_test,predictions_dt2)\n",
    "print(\"\\nRapports de classification du modèle DecisionTreeClassifier :\\n\", reporting)"
   ]
  },
  {
   "cell_type": "code",
   "execution_count": 62,
   "id": "0c2a7d61",
   "metadata": {},
   "outputs": [
    {
     "name": "stdout",
     "output_type": "stream",
     "text": [
      "\n",
      "Matrice de Confusion:\n",
      " [[1355   89]\n",
      " [  62   27]]\n",
      "\n",
      "Rapports de classification du modèleXGBClassifier  :\n",
      "               precision    recall  f1-score   support\n",
      "\n",
      "           0       0.96      0.94      0.95      1444\n",
      "           1       0.23      0.30      0.26        89\n",
      "\n",
      "    accuracy                           0.90      1533\n",
      "   macro avg       0.59      0.62      0.61      1533\n",
      "weighted avg       0.91      0.90      0.91      1533\n",
      "\n"
     ]
    }
   ],
   "source": [
    "#Mesure de performance classification XGBClassifier avec oversampling train\n",
    "\n",
    "#matrci de confusion\n",
    "m=confusion_matrix(y_test,predictions_XG2)\n",
    "print(\"\\nMatrice de Confusion:\\n\", m) \n",
    "\n",
    "#reposrting de classification \n",
    "reporting=classification_report(y_test,predictions_XG2)\n",
    "print(\"\\nRapports de classification du modèleXGBClassifier  :\\n\", reporting)"
   ]
  },
  {
   "cell_type": "markdown",
   "id": "1c1456a3",
   "metadata": {},
   "source": [
    "4.4 interprétation des résultats"
   ]
  },
  {
   "cell_type": "markdown",
   "id": "544c93d4",
   "metadata": {},
   "source": [
    " Malgré l’augmentation du nombre d'observation dans la partie train de 3676 a 6832, la prédiction de la classe 1 est toujours faible malgré une pétrie amélioration."
   ]
  },
  {
   "cell_type": "markdown",
   "id": "47624caa",
   "metadata": {},
   "source": [
    "**5.Oversampling2**"
   ]
  },
  {
   "cell_type": "markdown",
   "id": "9e08c54d",
   "metadata": {},
   "source": [
    "*4.1 Oversampling data_train & data_test*"
   ]
  },
  {
   "cell_type": "code",
   "execution_count": 63,
   "id": "1e24b496",
   "metadata": {},
   "outputs": [],
   "source": [
    "# Sur-échantillonnage ou oversampling\n",
    "from imblearn.over_sampling  import RandomOverSampler\n",
    "from imblearn.under_sampling import RandomUnderSampler\n",
    "rOs = RandomOverSampler()\n",
    "X_rOs_test,y_rOs_test  = rOs.fit_resample(X_test, y_test)"
   ]
  },
  {
   "cell_type": "code",
   "execution_count": 64,
   "id": "52148c01",
   "metadata": {},
   "outputs": [
    {
     "name": "stdout",
     "output_type": "stream",
     "text": [
      " X_rOs_train (6832, 12) \n",
      " X_rOs_test (2888, 12) \n",
      " y_rOs_train (6832,) \n",
      " y_rOs_test (2888,)\n"
     ]
    }
   ],
   "source": [
    "# On affiche les dimensions des datasets après avoir appliqué la fonction \n",
    "print(\" X_rOs_train\" ,X_rOs_train.shape,\"\\n\" ,\"X_rOs_test\",X_rOs_test.shape,\"\\n\",\"y_rOs_train\",y_rOs_train.shape,\"\\n\",\"y_rOs_test\",y_rOs_test.shape)"
   ]
  },
  {
   "cell_type": "code",
   "execution_count": 65,
   "id": "b9363986",
   "metadata": {},
   "outputs": [
    {
     "name": "stdout",
     "output_type": "stream",
     "text": [
      "Lignes 1: 1444\n",
      "Lignes 0: 1444\n"
     ]
    },
    {
     "data": {
      "image/png": "[encoded data removed]",
      "text/plain": [
       "<Figure size 432x288 with 1 Axes>"
      ]
     },
     "metadata": {},
     "output_type": "display_data"
    }
   ],
   "source": [
    "#la nouvelle repartion de la target \n",
    "sns.set_style('whitegrid')\n",
    "sns.countplot(x=y_rOs_test,palette='RdBu_r')\n",
    "print(\"Lignes 1:\",len(np.where(y_rOs_test==1)[0]))\n",
    "print(\"Lignes 0:\",len(np.where(y_rOs_test==0)[0]))"
   ]
  },
  {
   "cell_type": "markdown",
   "id": "d6ed966b",
   "metadata": {},
   "source": [
    "*5.2 Training and Predicting*"
   ]
  },
  {
   "cell_type": "markdown",
   "id": "611002f4",
   "metadata": {},
   "source": [
    "*5.2.1DecisionTreeClassifier*"
   ]
  },
  {
   "cell_type": "code",
   "execution_count": 66,
   "id": "af9ccf77",
   "metadata": {},
   "outputs": [],
   "source": [
    "pipeline_dt20=make_pipeline(RobustScaler(),DecisionTreeClassifier())"
   ]
  },
  {
   "cell_type": "code",
   "execution_count": 67,
   "id": "2782fe21",
   "metadata": {},
   "outputs": [],
   "source": [
    "hyperparametres_dt20={\n",
    "\"decisiontreeclassifier__max_depth\":[150, 155, 160],\n",
    "\"decisiontreeclassifier__min_samples_split\":[1, 2, 3],\n",
    "\"decisiontreeclassifier__min_samples_leaf\":[1, 2, 3]  \n",
    "}"
   ]
  },
  {
   "cell_type": "code",
   "execution_count": 68,
   "id": "25bb71d6",
   "metadata": {},
   "outputs": [],
   "source": [
    "machine_dt20=GridSearchCV(pipeline_dt20,hyperparametres_dt20 ,cv=10)"
   ]
  },
  {
   "cell_type": "code",
   "execution_count": 69,
   "id": "ff256659",
   "metadata": {},
   "outputs": [
    {
     "name": "stderr",
     "output_type": "stream",
     "text": [
      "C:\\Users\\akli_\\anaconda3\\lib\\site-packages\\sklearn\\model_selection\\_validation.py:372: FitFailedWarning: \n",
      "90 fits failed out of a total of 270.\n",
      "The score on these train-test partitions for these parameters will be set to nan.\n",
      "If these failures are not expected, you can try to debug them by setting error_score='raise'.\n",
      "\n",
      "Below are more details about the failures:\n",
      "--------------------------------------------------------------------------------\n",
      "90 fits failed with the following error:\n",
      "Traceback (most recent call last):\n",
      "  File \"C:\\Users\\akli_\\anaconda3\\lib\\site-packages\\sklearn\\model_selection\\_validation.py\", line 681, in _fit_and_score\n",
      "    estimator.fit(X_train, y_train, **fit_params)\n",
      "  File \"C:\\Users\\akli_\\anaconda3\\lib\\site-packages\\sklearn\\pipeline.py\", line 394, in fit\n",
      "    self._final_estimator.fit(Xt, y, **fit_params_last_step)\n",
      "  File \"C:\\Users\\akli_\\anaconda3\\lib\\site-packages\\sklearn\\tree\\_classes.py\", line 937, in fit\n",
      "    super().fit(\n",
      "  File \"C:\\Users\\akli_\\anaconda3\\lib\\site-packages\\sklearn\\tree\\_classes.py\", line 250, in fit\n",
      "    raise ValueError(\n",
      "ValueError: min_samples_split must be an integer greater than 1 or a float in (0.0, 1.0]; got the integer 1\n",
      "\n",
      "  warnings.warn(some_fits_failed_message, FitFailedWarning)\n",
      "C:\\Users\\akli_\\anaconda3\\lib\\site-packages\\sklearn\\model_selection\\_search.py:969: UserWarning: One or more of the test scores are non-finite: [       nan 0.97848437 0.9778985         nan 0.97409263 0.97306859\n",
      "        nan 0.97145869 0.96926314        nan 0.97936328 0.97731392\n",
      "        nan 0.9735074  0.97409305        nan 0.96999478 0.97116522\n",
      "        nan 0.97833774 0.97760611        nan 0.97380023 0.9733612\n",
      "        nan 0.96940998 0.97043337]\n",
      "  warnings.warn(\n"
     ]
    },
    {
     "data": {
      "text/plain": [
       "GridSearchCV(cv=10,\n",
       "             estimator=Pipeline(steps=[('robustscaler', RobustScaler()),\n",
       "                                       ('decisiontreeclassifier',\n",
       "                                        DecisionTreeClassifier())]),\n",
       "             param_grid={'decisiontreeclassifier__max_depth': [150, 155, 160],\n",
       "                         'decisiontreeclassifier__min_samples_leaf': [1, 2, 3],\n",
       "                         'decisiontreeclassifier__min_samples_split': [1, 2,\n",
       "                                                                       3]})"
      ]
     },
     "execution_count": 69,
     "metadata": {},
     "output_type": "execute_result"
    }
   ],
   "source": [
    "#entrainement \n",
    "machine_dt20.fit(X_rOs_train,y_rOs_train)"
   ]
  },
  {
   "cell_type": "code",
   "execution_count": 70,
   "id": "0c55d7ea",
   "metadata": {},
   "outputs": [
    {
     "data": {
      "text/plain": [
       "0.9793632751962875"
      ]
     },
     "execution_count": 70,
     "metadata": {},
     "output_type": "execute_result"
    }
   ],
   "source": [
    "machine_dt20.best_score_"
   ]
  },
  {
   "cell_type": "code",
   "execution_count": 71,
   "id": "dec59e0c",
   "metadata": {},
   "outputs": [],
   "source": [
    "predictions_dt20 = machine_dt20.predict(X_rOs_test)"
   ]
  },
  {
   "cell_type": "markdown",
   "id": "6bbfa3f4",
   "metadata": {},
   "source": [
    "*5.2.2 XGBClassifier*"
   ]
  },
  {
   "cell_type": "code",
   "execution_count": 72,
   "id": "387328e7",
   "metadata": {},
   "outputs": [],
   "source": [
    "predictions_XG2 = machine_XG2.predict(X_rOs_test)"
   ]
  },
  {
   "cell_type": "markdown",
   "id": "909c5343",
   "metadata": {},
   "source": [
    "*5.3 Evaluation*"
   ]
  },
  {
   "cell_type": "code",
   "execution_count": 73,
   "id": "374d8397",
   "metadata": {},
   "outputs": [
    {
     "name": "stdout",
     "output_type": "stream",
     "text": [
      "\n",
      "Matrice de Confusion:\n",
      " [[1377   67]\n",
      " [1232  212]]\n",
      "\n",
      "Rapports de classification du modèle DecisionTreeClassifier :\n",
      "               precision    recall  f1-score   support\n",
      "\n",
      "           0       0.53      0.95      0.68      1444\n",
      "           1       0.76      0.15      0.25      1444\n",
      "\n",
      "    accuracy                           0.55      2888\n",
      "   macro avg       0.64      0.55      0.46      2888\n",
      "weighted avg       0.64      0.55      0.46      2888\n",
      "\n"
     ]
    }
   ],
   "source": [
    "#Mesure de performance classification DecisionTreeClassifier apres oversampling 2\n",
    "\n",
    "#matrice de confusion\n",
    "m=confusion_matrix(y_rOs_test,predictions_dt20)\n",
    "print(\"\\nMatrice de Confusion:\\n\", m) \n",
    "\n",
    "#reporting de classification \n",
    "reporting=classification_report(y_rOs_test,predictions_dt20)\n",
    "print(\"\\nRapports de classification du modèle DecisionTreeClassifier :\\n\", reporting)"
   ]
  },
  {
   "cell_type": "code",
   "execution_count": 74,
   "id": "b0941616",
   "metadata": {},
   "outputs": [
    {
     "name": "stdout",
     "output_type": "stream",
     "text": [
      "\n",
      "Matrice de Confusion:\n",
      " [[1355   89]\n",
      " [1014  430]]\n",
      "\n",
      "Rapports de classification du modèle  XGBClassifier:\n",
      "               precision    recall  f1-score   support\n",
      "\n",
      "           0       0.57      0.94      0.71      1444\n",
      "           1       0.83      0.30      0.44      1444\n",
      "\n",
      "    accuracy                           0.62      2888\n",
      "   macro avg       0.70      0.62      0.57      2888\n",
      "weighted avg       0.70      0.62      0.57      2888\n",
      "\n"
     ]
    }
   ],
   "source": [
    "#Mesure de performance classification XGBClassifier apres oversampling 2\n",
    "\n",
    "#matrci de confusion\n",
    "m=confusion_matrix(y_rOs_test,predictions_XG2)\n",
    "print(\"\\nMatrice de Confusion:\\n\", m) \n",
    "\n",
    "#reposrting de classification \n",
    "reporting=classification_report(y_rOs_test,predictions_XG2)\n",
    "print(\"\\nRapports de classification du modèle  XGBClassifier:\\n\", reporting)"
   ]
  },
  {
   "cell_type": "markdown",
   "id": "cab10985",
   "metadata": {},
   "source": [
    "*5.4 interprétation des résultats*"
   ]
  },
  {
   "cell_type": "markdown",
   "id": "de397cd9",
   "metadata": {},
   "source": [
    "meme avec un oversdampling des deux pârtie , a savoir train_set et test_set ,\n",
    "les resulats de la prediction de la classe 1 reste insufisant; \n",
    "le meilluer reuslats obtrenu est 0.43"
   ]
  },
  {
   "cell_type": "markdown",
   "id": "52163d95",
   "metadata": {},
   "source": [
    "**6. Rééquilibrage des classes avec smote** "
   ]
  },
  {
   "cell_type": "code",
   "execution_count": 75,
   "id": "a4a0e46d",
   "metadata": {},
   "outputs": [],
   "source": [
    "#rééquilibrage des classes avec SMOTE\n",
    "sm = SMOTE(sampling_strategy='minority')\n",
    "#train-set\n",
    "X_train_smote, y_train_smote = sm.fit_resample(X_train, y_train)\n",
    "#test_set\n",
    "X_test_smote, y_test_smote = sm.fit_resample(X_test, y_test)"
   ]
  },
  {
   "cell_type": "code",
   "execution_count": 76,
   "id": "4a8ddf3f",
   "metadata": {},
   "outputs": [
    {
     "name": "stdout",
     "output_type": "stream",
     "text": [
      " X_train_smote (6832, 12) \n",
      " X_test_smote (2888, 12) \n",
      " y_train_smote (6832,) \n",
      " y_test_smote (2888,)\n"
     ]
    }
   ],
   "source": [
    "# On affiche les dimensions des datasets après avoir appliqué la fonction \n",
    "print(\" X_train_smote\" ,X_train_smote.shape,\"\\n\" ,\"X_test_smote\",X_test_smote.shape,\"\\n\",\"y_train_smote\",y_train_smote.shape,\"\\n\",\"y_test_smote\",y_test_smote.shape)"
   ]
  },
  {
   "cell_type": "code",
   "execution_count": 77,
   "id": "e44d6e3f",
   "metadata": {},
   "outputs": [
    {
     "name": "stdout",
     "output_type": "stream",
     "text": [
      "Lignes 1: 3416\n",
      "Lignes 0: 3416\n"
     ]
    },
    {
     "data": {
      "image/png": "[encoded data removed]",
      "text/plain": [
       "<Figure size 432x288 with 1 Axes>"
      ]
     },
     "metadata": {},
     "output_type": "display_data"
    }
   ],
   "source": [
    "#la nouvelle repartion de la target \n",
    "sns.set_style('whitegrid')\n",
    "sns.countplot(x=y_train_smote,palette='RdBu_r')\n",
    "print(\"Lignes 1:\",len(np.where(y_train_smote==1)[0]))\n",
    "print(\"Lignes 0:\",len(np.where(y_train_smote==0)[0]))"
   ]
  },
  {
   "cell_type": "code",
   "execution_count": 78,
   "id": "47561235",
   "metadata": {},
   "outputs": [
    {
     "name": "stdout",
     "output_type": "stream",
     "text": [
      "Lignes 1: 1444\n",
      "Lignes 0: 1444\n"
     ]
    },
    {
     "data": {
      "image/png": "[encoded data removed]",
      "text/plain": [
       "<Figure size 432x288 with 1 Axes>"
      ]
     },
     "metadata": {},
     "output_type": "display_data"
    }
   ],
   "source": [
    "#la nouvelle repartion de la target \n",
    "sns.set_style('whitegrid')\n",
    "sns.countplot(x=y_train_smote,palette='RdBu_r')\n",
    "print(\"Lignes 1:\",len(np.where(y_test_smote==1)[0]))\n",
    "print(\"Lignes 0:\",len(np.where(y_test_smote==0)[0]))"
   ]
  },
  {
   "cell_type": "markdown",
   "id": "7890257b",
   "metadata": {},
   "source": [
    "*6.2 Training and Predicting*"
   ]
  },
  {
   "cell_type": "code",
   "execution_count": 79,
   "id": "51bfc4cd",
   "metadata": {},
   "outputs": [],
   "source": [
    "pipeline=make_pipeline(RobustScaler(),RandomForestClassifier())"
   ]
  },
  {
   "cell_type": "code",
   "execution_count": 80,
   "id": "581566a0",
   "metadata": {},
   "outputs": [],
   "source": [
    "hyperparametres={\n",
    "\"randomforestclassifier__n_estimators\":[10, 50, 100],\n",
    "\"randomforestclassifier__criterion\":['gini','entropy'],\n",
    "\"randomforestclassifier__min_samples_split\":[1, 2, 3]  \n",
    "}"
   ]
  },
  {
   "cell_type": "code",
   "execution_count": 81,
   "id": "c8dd56b3",
   "metadata": {},
   "outputs": [],
   "source": [
    "machine=GridSearchCV(pipeline,hyperparametres,cv=10)"
   ]
  },
  {
   "cell_type": "code",
   "execution_count": 82,
   "id": "7b1a4e29",
   "metadata": {},
   "outputs": [
    {
     "name": "stderr",
     "output_type": "stream",
     "text": [
      "C:\\Users\\akli_\\anaconda3\\lib\\site-packages\\sklearn\\model_selection\\_validation.py:372: FitFailedWarning: \n",
      "60 fits failed out of a total of 180.\n",
      "The score on these train-test partitions for these parameters will be set to nan.\n",
      "If these failures are not expected, you can try to debug them by setting error_score='raise'.\n",
      "\n",
      "Below are more details about the failures:\n",
      "--------------------------------------------------------------------------------\n",
      "60 fits failed with the following error:\n",
      "Traceback (most recent call last):\n",
      "  File \"C:\\Users\\akli_\\anaconda3\\lib\\site-packages\\sklearn\\model_selection\\_validation.py\", line 681, in _fit_and_score\n",
      "    estimator.fit(X_train, y_train, **fit_params)\n",
      "  File \"C:\\Users\\akli_\\anaconda3\\lib\\site-packages\\sklearn\\pipeline.py\", line 394, in fit\n",
      "    self._final_estimator.fit(Xt, y, **fit_params_last_step)\n",
      "  File \"C:\\Users\\akli_\\anaconda3\\lib\\site-packages\\sklearn\\ensemble\\_forest.py\", line 442, in fit\n",
      "    trees = Parallel(\n",
      "  File \"C:\\Users\\akli_\\anaconda3\\lib\\site-packages\\joblib\\parallel.py\", line 1043, in __call__\n",
      "    if self.dispatch_one_batch(iterator):\n",
      "  File \"C:\\Users\\akli_\\anaconda3\\lib\\site-packages\\joblib\\parallel.py\", line 861, in dispatch_one_batch\n",
      "    self._dispatch(tasks)\n",
      "  File \"C:\\Users\\akli_\\anaconda3\\lib\\site-packages\\joblib\\parallel.py\", line 779, in _dispatch\n",
      "    job = self._backend.apply_async(batch, callback=cb)\n",
      "  File \"C:\\Users\\akli_\\anaconda3\\lib\\site-packages\\joblib\\_parallel_backends.py\", line 208, in apply_async\n",
      "    result = ImmediateResult(func)\n",
      "  File \"C:\\Users\\akli_\\anaconda3\\lib\\site-packages\\joblib\\_parallel_backends.py\", line 572, in __init__\n",
      "    self.results = batch()\n",
      "  File \"C:\\Users\\akli_\\anaconda3\\lib\\site-packages\\joblib\\parallel.py\", line 262, in __call__\n",
      "    return [func(*args, **kwargs)\n",
      "  File \"C:\\Users\\akli_\\anaconda3\\lib\\site-packages\\joblib\\parallel.py\", line 262, in <listcomp>\n",
      "    return [func(*args, **kwargs)\n",
      "  File \"C:\\Users\\akli_\\anaconda3\\lib\\site-packages\\sklearn\\utils\\fixes.py\", line 211, in __call__\n",
      "    return self.function(*args, **kwargs)\n",
      "  File \"C:\\Users\\akli_\\anaconda3\\lib\\site-packages\\sklearn\\ensemble\\_forest.py\", line 185, in _parallel_build_trees\n",
      "    tree.fit(X, y, sample_weight=curr_sample_weight, check_input=False)\n",
      "  File \"C:\\Users\\akli_\\anaconda3\\lib\\site-packages\\sklearn\\tree\\_classes.py\", line 937, in fit\n",
      "    super().fit(\n",
      "  File \"C:\\Users\\akli_\\anaconda3\\lib\\site-packages\\sklearn\\tree\\_classes.py\", line 250, in fit\n",
      "    raise ValueError(\n",
      "ValueError: min_samples_split must be an integer greater than 1 or a float in (0.0, 1.0]; got the integer 1\n",
      "\n",
      "  warnings.warn(some_fits_failed_message, FitFailedWarning)\n",
      "C:\\Users\\akli_\\anaconda3\\lib\\site-packages\\sklearn\\model_selection\\_search.py:969: UserWarning: One or more of the test scores are non-finite: [       nan        nan        nan 0.96401133 0.96796126 0.96825602\n",
      " 0.96357016 0.9673769  0.96781742        nan        nan        nan\n",
      " 0.96386513 0.96459548 0.96796255 0.96386556 0.96723113 0.96869483]\n",
      "  warnings.warn(\n"
     ]
    },
    {
     "data": {
      "text/plain": [
       "GridSearchCV(cv=10,\n",
       "             estimator=Pipeline(steps=[('robustscaler', RobustScaler()),\n",
       "                                       ('randomforestclassifier',\n",
       "                                        RandomForestClassifier())]),\n",
       "             param_grid={'randomforestclassifier__criterion': ['gini',\n",
       "                                                               'entropy'],\n",
       "                         'randomforestclassifier__min_samples_split': [1, 2, 3],\n",
       "                         'randomforestclassifier__n_estimators': [10, 50, 100]})"
      ]
     },
     "execution_count": 82,
     "metadata": {},
     "output_type": "execute_result"
    }
   ],
   "source": [
    "#entrainement \n",
    "machine.fit(X_train_smote,y_train_smote)"
   ]
  },
  {
   "cell_type": "code",
   "execution_count": 83,
   "id": "1b919e13",
   "metadata": {},
   "outputs": [
    {
     "data": {
      "text/plain": [
       "{'randomforestclassifier__criterion': 'entropy',\n",
       " 'randomforestclassifier__min_samples_split': 3,\n",
       " 'randomforestclassifier__n_estimators': 100}"
      ]
     },
     "execution_count": 83,
     "metadata": {},
     "output_type": "execute_result"
    }
   ],
   "source": [
    "machine.best_params_"
   ]
  },
  {
   "cell_type": "code",
   "execution_count": 84,
   "id": "9c1da7cc",
   "metadata": {},
   "outputs": [
    {
     "data": {
      "text/plain": [
       "0.9686948276009695"
      ]
     },
     "execution_count": 84,
     "metadata": {},
     "output_type": "execute_result"
    }
   ],
   "source": [
    "machine.best_score_"
   ]
  },
  {
   "cell_type": "code",
   "execution_count": 85,
   "id": "db498c38",
   "metadata": {},
   "outputs": [],
   "source": [
    "predictions = machine.predict(X_test_smote)"
   ]
  },
  {
   "cell_type": "markdown",
   "id": "d42d24a1",
   "metadata": {},
   "source": [
    "*6.3 Evaluation*"
   ]
  },
  {
   "cell_type": "code",
   "execution_count": 86,
   "id": "d4e95af9",
   "metadata": {},
   "outputs": [
    {
     "name": "stdout",
     "output_type": "stream",
     "text": [
      "\n",
      "Matrice de Confusion:\n",
      " [[1417   27]\n",
      " [ 402 1042]]\n",
      "\n",
      "Rapports de classification du modèle DecisionTreeClassifier :\n",
      "               precision    recall  f1-score   support\n",
      "\n",
      "           0       0.78      0.98      0.87      1444\n",
      "           1       0.97      0.72      0.83      1444\n",
      "\n",
      "    accuracy                           0.85      2888\n",
      "   macro avg       0.88      0.85      0.85      2888\n",
      "weighted avg       0.88      0.85      0.85      2888\n",
      "\n"
     ]
    }
   ],
   "source": [
    "#Mesure de performance classification DecisionTreeClassifier\n",
    "\n",
    "#matrci de confusion\n",
    "m=confusion_matrix(y_test_smote,predictions)\n",
    "print(\"\\nMatrice de Confusion:\\n\", m) \n",
    "\n",
    "#reposrting de classification \n",
    "reporting=classification_report(y_test_smote,predictions)\n",
    "print(\"\\nRapports de classification du modèle DecisionTreeClassifier :\\n\", reporting)"
   ]
  },
  {
   "cell_type": "markdown",
   "id": "8a251686",
   "metadata": {},
   "source": [
    "*6.4 interprétation des résultats* "
   ]
  },
  {
   "cell_type": "code",
   "execution_count": 87,
   "id": "3688ef6c",
   "metadata": {},
   "outputs": [],
   "source": [
    "#bingo \n",
    "#meilleurs resulats en faisant smote sur l'ensemble  du dataframe (train_set et test_set) avec randomforestclassifier"
   ]
  },
  {
   "cell_type": "markdown",
   "id": "b3a83cd9",
   "metadata": {},
   "source": [
    "**7. mise en eprodyction & exporter le model**"
   ]
  },
  {
   "cell_type": "code",
   "execution_count": 88,
   "id": "9bb784ba",
   "metadata": {},
   "outputs": [],
   "source": [
    "pipeline_finale=make_pipeline(RobustScaler(),\n",
    "                              RandomForestClassifier( criterion='gini',\n",
    "                                                      min_samples_split= 2,\n",
    "                                                      n_estimators= 50)\n",
    "                             )"
   ]
  },
  {
   "cell_type": "code",
   "execution_count": 89,
   "id": "3c2c5b14",
   "metadata": {},
   "outputs": [
    {
     "data": {
      "text/plain": [
       "Pipeline(steps=[('robustscaler', RobustScaler()),\n",
       "                ('randomforestclassifier',\n",
       "                 RandomForestClassifier(n_estimators=50))])"
      ]
     },
     "execution_count": 89,
     "metadata": {},
     "output_type": "execute_result"
    }
   ],
   "source": [
    "pipeline_finale.fit(X_train_smote,y_train_smote)"
   ]
  },
  {
   "cell_type": "code",
   "execution_count": 90,
   "id": "2661645d",
   "metadata": {},
   "outputs": [],
   "source": [
    "prediction_finale =pipeline_finale.predict(X_test_smote)"
   ]
  },
  {
   "cell_type": "code",
   "execution_count": 91,
   "id": "c3ec365d",
   "metadata": {},
   "outputs": [
    {
     "name": "stdout",
     "output_type": "stream",
     "text": [
      "\n",
      "Rapports de classification du modèle rf :\n",
      "               precision    recall  f1-score   support\n",
      "\n",
      "           0       0.77      0.98      0.86      1444\n",
      "           1       0.97      0.71      0.82      1444\n",
      "\n",
      "    accuracy                           0.84      2888\n",
      "   macro avg       0.87      0.84      0.84      2888\n",
      "weighted avg       0.87      0.84      0.84      2888\n",
      "\n"
     ]
    }
   ],
   "source": [
    "print(\"\\nRapports de classification du modèle rf :\\n\",classification_report(y_test_smote,prediction_finale))"
   ]
  },
  {
   "cell_type": "code",
   "execution_count": 92,
   "id": "5c6d68a7",
   "metadata": {},
   "outputs": [],
   "source": [
    "#exporter le model "
   ]
  },
  {
   "cell_type": "code",
   "execution_count": 93,
   "id": "b41dd102",
   "metadata": {},
   "outputs": [
    {
     "data": {
      "text/plain": [
       "['stroke.final']"
      ]
     },
     "execution_count": 93,
     "metadata": {},
     "output_type": "execute_result"
    }
   ],
   "source": [
    "joblib.dump(pipeline_finale,\"stroke.final\")"
   ]
  }
 ],
 "metadata": {
  "kernelspec": {
   "display_name": "Python 3 (ipykernel)",
   "language": "python",
   "name": "python3"
  },
  "language_info": {
   "codemirror_mode": {
    "name": "ipython",
    "version": 3
   },
   "file_extension": ".py",
   "mimetype": "text/x-python",
   "name": "python",
   "nbconvert_exporter": "python",
   "pygments_lexer": "ipython3",
   "version": "3.8.12"
  }
 },
 "nbformat": 4,
 "nbformat_minor": 5
}
